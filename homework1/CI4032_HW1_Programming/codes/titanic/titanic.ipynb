{
 "cells": [
  {
   "cell_type": "code",
   "execution_count": 123,
   "metadata": {},
   "outputs": [],
   "source": [
    "import pandas as pd \n",
    "import numpy as np\n",
    "import matplotlib.pylab as plt \n",
    "import seaborn as sns \n",
    "plt.style.use(\"ggplot\")\n",
    "pd.set_option(\"display.max_columns\" ,40) # to see all the columns(here 40) for bigger datasets"
   ]
  },
  {
   "cell_type": "code",
   "execution_count": 124,
   "metadata": {},
   "outputs": [
    {
     "name": "stdout",
     "output_type": "stream",
     "text": [
      "the dataframe has [891] rows and [12] columns\n",
      "the columns are : \n",
      "Index(['PassengerId', 'Survived', 'Pclass', 'Name', 'Sex', 'Age', 'SibSp',\n",
      "       'Parch', 'Ticket', 'Fare', 'Cabin', 'Embarked'],\n",
      "      dtype='object')\n"
     ]
    }
   ],
   "source": [
    "# readign data using pandas lib\n",
    "df = pd.read_csv(\"train.csv\")\n",
    "print(f\"the dataframe has [{df.shape[0]}] rows and [{df.shape[1]}] columns\")\n",
    "print(f\"the columns are : \\n{df.columns}\")"
   ]
  },
  {
   "cell_type": "code",
   "execution_count": 125,
   "metadata": {},
   "outputs": [],
   "source": [
    "# df[['PassengerId', 'Survived', 'Pclass', 'Name', 'Sex', 'Age', 'SibSp',\n",
    "#        'Parch', 'Ticket', 'Fare', 'Cabin', 'Embarked']]\n"
   ]
  },
  {
   "cell_type": "code",
   "execution_count": 126,
   "metadata": {},
   "outputs": [
    {
     "name": "stdout",
     "output_type": "stream",
     "text": [
      "each columns has : \n",
      "PassengerId      0\n",
      "Survived         0\n",
      "Pclass           0\n",
      "Name             0\n",
      "Sex              0\n",
      "Age            177\n",
      "SibSp            0\n",
      "Parch            0\n",
      "Ticket           0\n",
      "Fare             0\n",
      "Cabin          687\n",
      "Embarked         2\n",
      "dtype: int64 null values\n"
     ]
    },
    {
     "data": {
      "image/png": "[encoded data removed]",
      "text/plain": [
       "<Figure size 432x288 with 1 Axes>"
      ]
     },
     "metadata": {},
     "output_type": "display_data"
    }
   ],
   "source": [
    "print(f\"each columns has : \\n{df.isnull().sum()} null values\") # how many null does each columns have\n",
    "# print(f\"rows with missing values are : \\n{df[df.isnull().any(axis=1)].head(20)}\") # all te rows that have at least one missing value \n",
    "# heatmap of the missing values \n",
    "sns.heatmap(df.isnull(), cmap=\"viridis\", cbar=False, yticklabels=False)\n",
    "plt.show()\n"
   ]
  },
  {
   "cell_type": "code",
   "execution_count": 127,
   "metadata": {},
   "outputs": [],
   "source": [
    "# convering sex to numeric values \n",
    "df['Sex'] = df['Sex'].map({'male':0 , 'female':1}) # male = 0 , female = 1 "
   ]
  },
  {
   "cell_type": "code",
   "execution_count": null,
   "metadata": {},
   "outputs": [
    {
     "name": "stderr",
     "output_type": "stream",
     "text": [
      "/tmp/ipykernel_173001/1350206234.py:2: FutureWarning: A value is trying to be set on a copy of a DataFrame or Series through chained assignment using an inplace method.\n",
      "The behavior will change in pandas 3.0. This inplace method will never work because the intermediate object on which we are setting values always behaves as a copy.\n",
      "\n",
      "For example, when doing 'df[col].method(value, inplace=True)', try using 'df.method({col: value}, inplace=True)' or df[col] = df[col].method(value) instead, to perform the operation inplace on the original object.\n",
      "\n",
      "\n",
      "  df['Age'].fillna(df['Age'].median(), inplace=True)\n",
      "/tmp/ipykernel_173001/1350206234.py:4: FutureWarning: A value is trying to be set on a copy of a DataFrame or Series through chained assignment using an inplace method.\n",
      "The behavior will change in pandas 3.0. This inplace method will never work because the intermediate object on which we are setting values always behaves as a copy.\n",
      "\n",
      "For example, when doing 'df[col].method(value, inplace=True)', try using 'df.method({col: value}, inplace=True)' or df[col] = df[col].method(value) instead, to perform the operation inplace on the original object.\n",
      "\n",
      "\n",
      "  df['Embarked'].fillna(df['Embarked'].mode()[0], inplace=True)\n"
     ]
    }
   ],
   "source": [
    "# adding some value for the mising values of the age ... (we will add the median of the age)\n",
    "df['Age'].fillna(df['Age'].median(), inplace=True)\n",
    "#for the Embarked as well \n",
    "df['Embarked'].fillna(df['Embarked'].mode()[0], inplace=True)"
   ]
  },
  {
   "cell_type": "code",
   "execution_count": 129,
   "metadata": {},
   "outputs": [
    {
     "name": "stdout",
     "output_type": "stream",
     "text": [
      "unique values for Embarked is : ['S' 'C' 'Q']\n"
     ]
    }
   ],
   "source": [
    "print(F\"unique values for Embarked is : {df['Embarked'].unique()}\")\n",
    "df = pd.get_dummies(df, columns=['Embarked'], drop_first=True) # if both Q ,S are zero then we can say that it's C"
   ]
  },
  {
   "cell_type": "code",
   "execution_count": 130,
   "metadata": {},
   "outputs": [],
   "source": [
    "df.drop(['Name' , 'Ticket' , 'Cabin'] ,axis=1 , inplace=True) # removign these becuase they dont effect the training"
   ]
  },
  {
   "cell_type": "code",
   "execution_count": 131,
   "metadata": {},
   "outputs": [
    {
     "data": {
      "text/plain": [
       "Index(['PassengerId', 'Survived', 'Pclass', 'Sex', 'Age', 'SibSp', 'Parch',\n",
       "       'Fare', 'Embarked_Q', 'Embarked_S'],\n",
       "      dtype='object')"
      ]
     },
     "execution_count": 131,
     "metadata": {},
     "output_type": "execute_result"
    }
   ],
   "source": [
    "# trying to nomalize the dataset\n",
    "from sklearn.preprocessing import MinMaxScaler\n",
    "\n",
    "scaler = MinMaxScaler() # THE SET values between 0 ,1 \n",
    "df[['Age', 'Fare', 'SibSp', 'Parch']] = scaler.fit_transform(df[['Age', 'Fare', 'SibSp', 'Parch']])\n",
    "df.head()\n",
    "df.columns"
   ]
  },
  {
   "cell_type": "code",
   "execution_count": null,
   "metadata": {},
   "outputs": [],
   "source": [
    "y = df['Survived'] # this is the lables\n",
    "X = df.drop(columns=['PassengerId' , 'Survived'] , axis=1)"
   ]
  },
  {
   "cell_type": "code",
   "execution_count": 194,
   "metadata": {},
   "outputs": [
    {
     "name": "stdout",
     "output_type": "stream",
     "text": [
      "X_train type is : <class 'pandas.core.frame.DataFrame'>\n",
      "X_train size is : (712, 8)\n",
      "X_test size is : (179, 8)\n",
      "y_train size is : (712,)\n",
      "y_test size is : (179,)\n"
     ]
    }
   ],
   "source": [
    "from sklearn.model_selection import train_test_split\n",
    "X_train, X_test, y_train, y_test = train_test_split(X, y, test_size=0.2, random_state=42) # 20% of the data for testing\n",
    "print(f\"X_train type is : {type(X_train)}\")\n",
    "print(f\"X_train size is : {X_train.shape}\")\n",
    "print(f\"X_test size is : {X_test.shape}\")\n",
    "print(f\"y_train size is : {y_train.shape}\")\n",
    "print(f\"y_test size is : {y_test.shape}\")"
   ]
  },
  {
   "cell_type": "code",
   "execution_count": 134,
   "metadata": {},
   "outputs": [],
   "source": [
    "n_x = 8 # this is for the number of features \n",
    "n_h = 5 # this is the hidden layer neurans \n",
    "n_y = 1 # output layer (becuase this s a binary classification we have 1)\n",
    "\n",
    "# init for random weights and biases \n",
    "W1 = np.random.randn(n_h, n_x) * 0.01  # Shape: (n_h, n_x)\n",
    "b1 = np.zeros((n_h, 1))                # Shape: (n_h, 1)\n",
    "W2 = np.random.randn(n_y, n_h) * 0.01   # Shape: (n_y, n_h)\n",
    "b2 = np.zeros((n_y, 1))                # Shape: (n_y, 1)"
   ]
  },
  {
   "cell_type": "markdown",
   "metadata": {},
   "source": [
    "### Activation functions\n",
    "- Relu for hidden layer\n",
    "- sigmoid for output layer"
   ]
  },
  {
   "cell_type": "code",
   "execution_count": 135,
   "metadata": {},
   "outputs": [],
   "source": [
    "def relu(Z):\n",
    "    return np.maximum(0 ,Z)\n",
    "\n",
    "def sigmoid(Z):\n",
    "    Z = np.array(Z, dtype=np.float64) # convert the type so we dont get any error\n",
    "    return 1 / (1 + np.exp(-Z))"
   ]
  },
  {
   "cell_type": "markdown",
   "metadata": {},
   "source": [
    "### forwand propagation\n",
    "- Z[1] = W[1]X + b[1] ==> A[1] = ReLU(Z[1])\n",
    "- Z[2] = W[2]A[1] + b[2] ==> A[2] = sigmoid(Z[2])\n",
    "\n"
   ]
  },
  {
   "cell_type": "code",
   "execution_count": 136,
   "metadata": {},
   "outputs": [],
   "source": [
    "def forward_propagation(X , W1 , b1 , W2 , b2):\n",
    "    # hidden layer\n",
    "    Z1 = np.dot(W1 , X) + b1\n",
    "    A1 = relu(Z1)\n",
    "    \n",
    "    # output layer\n",
    "    Z2 = np.dot(W2 ,A1) + b2\n",
    "    A2 = sigmoid(Z2)\n",
    "    \n",
    "    res = (Z1 , A1 , Z2 , A2)\n",
    "    return A2 , res"
   ]
  },
  {
   "cell_type": "markdown",
   "metadata": {},
   "source": [
    "### Cost Function (cross-entropy loss)\n",
    "- J = $-\\frac{1}{m}\\sum_{i=1}^{m} [y^i\\log{({A_{2}}^{(i)})} + (1 - y^{(i)})\\log{(1 -{A_{2}}^{(i)} )}]$"
   ]
  },
  {
   "cell_type": "code",
   "execution_count": 137,
   "metadata": {},
   "outputs": [],
   "source": [
    "def compute_cost(A2 , Y):\n",
    "    m = Y.shape[1] # number of the examples\n",
    "    \n",
    "    cost = -np.sum(Y * np.log(A2) + (1 -Y) * np.log(1 - A2)) / m\n",
    "    cost = np.squeeze(cost) # cost should be scaler\n",
    "    return cost"
   ]
  },
  {
   "cell_type": "markdown",
   "metadata": {},
   "source": [
    "### backward propagation\n",
    "- Gradient for output layer\n",
    "    - error term for output layer is : \n",
    "    $dZ^{[2]} = A^{[2]} - Y$\n",
    "    - then we have <br>\n",
    "     $ dW^{[2]} = \\frac{1}{m}dZ^{[2]}.(A^{[1]})^{T} $ <br>\n",
    "     $ db^{[2]} = \\ \\frac{1}{m}\\sum_{}dZ^{[2]}$ <br>\n",
    "- Gradient for output layer\n",
    "    - propagate the error back <br>\n",
    "    $dA^{[1]} = (W^{[2]})^{T}dZ^{[2]}$ <br>\n",
    "    - for ReLU  , the drivite $\\frac{d}{dx}ReLU(Z)$ is 1 if $z > 0$ and 0 otherwise <br>\n",
    "    $ dZ^{[1]} = dA^{[1]} * g'(Z^{[2]})$ <br>\n",
    "    where $ g'(Z^{[1]}) = 1$ if $Z^{[1]} > 0$ , else 0. <br>\n",
    "    - then <br>\n",
    "    $dW^{[1]} = \\frac{1}{m}dZ^{[1]}.X^{T}$ <br>\n",
    "    $db^{[1]} = \\frac{1}{m}\\sum_{}dZ^{[1]}$"
   ]
  },
  {
   "cell_type": "code",
   "execution_count": 138,
   "metadata": {},
   "outputs": [],
   "source": [
    "def backward_propagation(X, Y, cache, W2):\n",
    "    m = X.shape[1]\n",
    "    Z1, A1, Z2, A2 = cache\n",
    "\n",
    "    # Output layer error\n",
    "    dZ2 = A2 - Y                   # Shape: (1, m)\n",
    "    dW2 = (1/m) * np.dot(dZ2, A1.T)  # Shape: (1, n_h)\n",
    "    db2 = (1/m) * np.sum(dZ2, axis=1, keepdims=True)\n",
    "\n",
    "    # Hidden layer error\n",
    "    dA1 = np.dot(W2.T, dZ2)         # Shape: (n_h, m)\n",
    "    dZ1 = dA1 * (Z1 > 0)            # Derivative of ReLU\n",
    "    dW1 = (1/m) * np.dot(dZ1, X.T)   # Shape: (n_h, n_x)\n",
    "    db1 = (1/m) * np.sum(dZ1, axis=1, keepdims=True)\n",
    "\n",
    "    gradients = {\"dW1\": dW1, \"db1\": db1, \"dW2\": dW2, \"db2\": db2}\n",
    "    return gradients\n"
   ]
  },
  {
   "cell_type": "markdown",
   "metadata": {},
   "source": [
    "### updating the parameters\n",
    "- $parameter = parameter - \\alpha \\times gradinet $"
   ]
  },
  {
   "cell_type": "code",
   "execution_count": 139,
   "metadata": {},
   "outputs": [],
   "source": [
    "def update_parameters(W1, b1, W2, b2, gradients, learning_rate):\n",
    "    W1 = W1 - learning_rate * gradients[\"dW1\"]\n",
    "    b1 = b1 - learning_rate * gradients[\"db1\"]\n",
    "    W2 = W2 - learning_rate * gradients[\"dW2\"]\n",
    "    b2 = b2 - learning_rate * gradients[\"db2\"]\n",
    "    \n",
    "    return W1, b1, W2, b2\n"
   ]
  },
  {
   "cell_type": "code",
   "execution_count": 166,
   "metadata": {},
   "outputs": [],
   "source": [
    "costs = []\n",
    "\n",
    "def neural_network_model(X, Y, n_h, num_iterations=10000, learning_rate=0.01, print_cost=False):\n",
    "    np.random.seed(42)  # for reproducibility\n",
    "    n_x = X.shape[0]\n",
    "    n_y = Y.shape[0]\n",
    "\n",
    "    # Initialize parameters\n",
    "    W1 = np.random.randn(n_h, n_x) * 0.01\n",
    "    b1 = np.zeros((n_h, 1))\n",
    "    W2 = np.random.randn(n_y, n_h) * 0.01\n",
    "    b2 = np.zeros((n_y, 1))\n",
    "\n",
    "    for i in range(num_iterations):\n",
    "        A2, cache = forward_propagation(X, W1, b1, W2, b2)\n",
    "        \n",
    "        cost = compute_cost(A2, Y)\n",
    "        costs.append(cost)\n",
    "        \n",
    "        gradients = backward_propagation(X, Y, cache, W2)\n",
    "        \n",
    "        W1, b1, W2, b2 = update_parameters(W1, b1, W2, b2, gradients, learning_rate)\n",
    "        \n",
    "        if print_cost and i % 1000 == 0:\n",
    "            print(f\"Cost after iteration {i}: {cost}\")\n",
    "                  \n",
    "    parameters = {\"W1\": W1, \"b1\": b1, \"W2\": W2, \"b2\": b2}\n",
    "    return parameters\n"
   ]
  },
  {
   "cell_type": "code",
   "execution_count": null,
   "metadata": {},
   "outputs": [
    {
     "name": "stdout",
     "output_type": "stream",
     "text": [
      "Cost after iteration 0: 0.6931652704092118\n",
      "Cost after iteration 1000: 0.47874070992626483\n",
      "Cost after iteration 2000: 0.45647047521127004\n",
      "Cost after iteration 3000: 0.45151118145914054\n",
      "Cost after iteration 4000: 0.44998147901853647\n",
      "Cost after iteration 5000: 0.44941193126931545\n",
      "Cost after iteration 6000: 0.4488065932277453\n",
      "Cost after iteration 7000: 0.4485445190720947\n",
      "Cost after iteration 8000: 0.4484023855473621\n",
      "Cost after iteration 9000: 0.4483078734500014\n"
     ]
    }
   ],
   "source": [
    "# runnning the code \n",
    "X_train_np = X_train.values.T  # Now shape is (n_x, m_train)\n",
    "y_train_np = y_train.values.reshape(1, -1)  # Shape: (1, m_train)\n",
    "\n",
    "# Similarly for test data:\n",
    "X_test_np = X_test.values.T    # Shape: (n_x, m_test)\n",
    "y_test_np = y_test.values.reshape(1, -1)      # Shape: (1, m_test)\n",
    "\n",
    "# Train the network:\n",
    "parameters = neural_network_model(X_train_np, y_train_np, \n",
    "                                  n_h=5,             # number of neurons in the hidden layer (you can adjust)\n",
    "                                  num_iterations=10000, \n",
    "                                  learning_rate=0.05, \n",
    "                                  print_cost=True)\n"
   ]
  },
  {
   "cell_type": "code",
   "execution_count": 168,
   "metadata": {},
   "outputs": [
    {
     "data": {
      "image/png": "[encoded data removed]",
      "text/plain": [
       "<Figure size 576x432 with 1 Axes>"
      ]
     },
     "metadata": {},
     "output_type": "display_data"
    }
   ],
   "source": [
    "iterations = np.arange(0, len(costs)) \n",
    "\n",
    "plt.figure(figsize=(8, 6))\n",
    "plt.plot(iterations, costs, 'b-', linewidth=2)\n",
    "plt.xlabel(\"Iteration\")\n",
    "plt.ylabel(\"Cost\")\n",
    "plt.title(\"Cost vs. Iterations\")\n",
    "plt.grid(True)\n",
    "plt.show()"
   ]
  },
  {
   "cell_type": "code",
   "execution_count": 241,
   "metadata": {},
   "outputs": [
    {
     "name": "stdout",
     "output_type": "stream",
     "text": [
      "Test Accuracy: 0.8044692737430168\n"
     ]
    }
   ],
   "source": [
    "A2_test, _ = forward_propagation(X_test_np, parameters[\"W1\"], parameters[\"b1\"],\n",
    "                                  parameters[\"W2\"], parameters[\"b2\"])\n",
    "\n",
    "predictions = (A2_test > 0.5).astype(int)\n",
    "\n",
    "accuracy = np.mean(predictions == y_test_np)\n",
    "print(\"Test Accuracy:\", accuracy)"
   ]
  },
  {
   "cell_type": "code",
   "execution_count": null,
   "metadata": {},
   "outputs": [
    {
     "name": "stdout",
     "output_type": "stream",
     "text": [
      "Survived (1) or Did not Survive (0): [[1]]\n"
     ]
    }
   ],
   "source": [
    "def predict_survival_single(test_data, parameters):\n",
    "    A2_test, _ = forward_propagation(test_data, parameters[\"W1\"], parameters[\"b1\"],\n",
    "                                      parameters[\"W2\"], parameters[\"b2\"])\n",
    "    prediction = (A2_test > 0.5).astype(int)\n",
    "    return prediction\n",
    "\n",
    "# Example test case\n",
    "test_data = np.array([[1, 1, 0., 0.0, 0.0, 0.1, False, False]]).T\n",
    "prediction = predict_survival_single(test_data, parameters)\n",
    "print(\"Survived (1) or Did not Survive (0):\", prediction)"
   ]
  },
  {
   "cell_type": "code",
   "execution_count": 253,
   "metadata": {},
   "outputs": [
    {
     "name": "stdout",
     "output_type": "stream",
     "text": [
      "number of the tests are 418\n"
     ]
    }
   ],
   "source": [
    "df_test = pd.read_csv(\"test.csv\")\n",
    "print(f\"number of the tests are {len(df_test)}\")"
   ]
  },
  {
   "cell_type": "code",
   "execution_count": 254,
   "metadata": {},
   "outputs": [],
   "source": [
    "df_test['Sex'] = df_test['Sex'].map({'male': 0, 'female': 1})"
   ]
  },
  {
   "cell_type": "code",
   "execution_count": 255,
   "metadata": {},
   "outputs": [
    {
     "name": "stderr",
     "output_type": "stream",
     "text": [
      "/tmp/ipykernel_173001/1078339203.py:2: FutureWarning: A value is trying to be set on a copy of a DataFrame or Series through chained assignment using an inplace method.\n",
      "The behavior will change in pandas 3.0. This inplace method will never work because the intermediate object on which we are setting values always behaves as a copy.\n",
      "\n",
      "For example, when doing 'df[col].method(value, inplace=True)', try using 'df.method({col: value}, inplace=True)' or df[col] = df[col].method(value) instead, to perform the operation inplace on the original object.\n",
      "\n",
      "\n",
      "  df_test['Age'].fillna(df_test['Age'].median(), inplace=True)\n",
      "/tmp/ipykernel_173001/1078339203.py:4: FutureWarning: A value is trying to be set on a copy of a DataFrame or Series through chained assignment using an inplace method.\n",
      "The behavior will change in pandas 3.0. This inplace method will never work because the intermediate object on which we are setting values always behaves as a copy.\n",
      "\n",
      "For example, when doing 'df[col].method(value, inplace=True)', try using 'df.method({col: value}, inplace=True)' or df[col] = df[col].method(value) instead, to perform the operation inplace on the original object.\n",
      "\n",
      "\n",
      "  df_test['Embarked'].fillna(df_test['Embarked'].mode()[0], inplace=True)\n"
     ]
    }
   ],
   "source": [
    "# adding some value for the mising values of the age ... (we will add the median of the age)\n",
    "df_test['Age'].fillna(df_test['Age'].median(), inplace=True)\n",
    "#for the Embarked as well \n",
    "df_test['Embarked'].fillna(df_test['Embarked'].mode()[0], inplace=True)"
   ]
  },
  {
   "cell_type": "code",
   "execution_count": 256,
   "metadata": {},
   "outputs": [
    {
     "name": "stdout",
     "output_type": "stream",
     "text": [
      "unique values for Embarked is : ['Q' 'S' 'C']\n"
     ]
    }
   ],
   "source": [
    "print(F\"unique values for Embarked is : {df_test['Embarked'].unique()}\")\n",
    "df_test = pd.get_dummies(df_test, columns=['Embarked'], drop_first=True) # if both Q ,S are zero then we can say that it's C"
   ]
  },
  {
   "cell_type": "code",
   "execution_count": 257,
   "metadata": {},
   "outputs": [],
   "source": [
    "df_test.drop(['Name' , 'Ticket' , 'Cabin'] ,axis=1 , inplace=True) # removign these becuase they dont effect the training"
   ]
  },
  {
   "cell_type": "code",
   "execution_count": 258,
   "metadata": {},
   "outputs": [
    {
     "data": {
      "text/plain": [
       "Index(['PassengerId', 'Pclass', 'Sex', 'Age', 'SibSp', 'Parch', 'Fare',\n",
       "       'Embarked_Q', 'Embarked_S'],\n",
       "      dtype='object')"
      ]
     },
     "execution_count": 258,
     "metadata": {},
     "output_type": "execute_result"
    }
   ],
   "source": [
    "df_test[['Age', 'Fare', 'SibSp', 'Parch']] = scaler.fit_transform(df_test[['Age', 'Fare', 'SibSp', 'Parch']])\n",
    "df_test.head()\n",
    "df_test.columns"
   ]
  },
  {
   "cell_type": "code",
   "execution_count": 264,
   "metadata": {},
   "outputs": [],
   "source": [
    "X_test_df = df_test.drop(columns=['PassengerId'], axis=1).values.T"
   ]
  },
  {
   "cell_type": "code",
   "execution_count": 265,
   "metadata": {},
   "outputs": [
    {
     "name": "stderr",
     "output_type": "stream",
     "text": [
      "/tmp/ipykernel_173001/1006701501.py:55: RuntimeWarning: invalid value encountered in maximum\n",
      "  return np.maximum(0, Z)\n"
     ]
    }
   ],
   "source": [
    "test_predictions, _ = forward_propagation(X_test_df, parameters[\"W1\"], parameters[\"b1\"],\n",
    "                                        parameters[\"W2\"], parameters[\"b2\"])\n",
    "test_predictions = (test_predictions > 0.5).astype(int)"
   ]
  },
  {
   "cell_type": "code",
   "execution_count": 266,
   "metadata": {},
   "outputs": [
    {
     "name": "stdout",
     "output_type": "stream",
     "text": [
      "     PassengerId  Survived\n",
      "0            892         0\n",
      "1            893         0\n",
      "2            894         0\n",
      "3            895         0\n",
      "4            896         1\n",
      "..           ...       ...\n",
      "413         1305         0\n",
      "414         1306         1\n",
      "415         1307         0\n",
      "416         1308         0\n",
      "417         1309         0\n",
      "\n",
      "[418 rows x 2 columns]\n"
     ]
    }
   ],
   "source": [
    "df_test['Survived'] = test_predictions.T\n",
    "print(df_test[['PassengerId', 'Survived']])"
   ]
  },
  {
   "cell_type": "code",
   "execution_count": 267,
   "metadata": {},
   "outputs": [],
   "source": [
    "df_test[['PassengerId', 'Survived']].to_csv('test_predictions.csv', index=False)"
   ]
  }
 ],
 "metadata": {
  "kernelspec": {
   "display_name": "Python 3",
   "language": "python",
   "name": "python3"
  },
  "language_info": {
   "codemirror_mode": {
    "name": "ipython",
    "version": 3
   },
   "file_extension": ".py",
   "mimetype": "text/x-python",
   "name": "python",
   "nbconvert_exporter": "python",
   "pygments_lexer": "ipython3",
   "version": "3.10.12"
  }
 },
 "nbformat": 4,
 "nbformat_minor": 2
}
