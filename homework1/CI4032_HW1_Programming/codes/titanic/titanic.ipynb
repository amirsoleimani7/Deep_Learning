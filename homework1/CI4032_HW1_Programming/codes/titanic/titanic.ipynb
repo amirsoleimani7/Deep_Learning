{
 "cells": [
  {
   "cell_type": "code",
   "execution_count": 432,
   "metadata": {},
   "outputs": [],
   "source": [
    "import pandas as pd \n",
    "import numpy as np\n",
    "import matplotlib.pylab as plt \n",
    "import seaborn as sns \n",
    "plt.style.use(\"ggplot\")\n",
    "pd.set_option(\"display.max_columns\" ,40) # to see all the columns(here 40) for bigger datasets"
   ]
  },
  {
   "cell_type": "code",
   "execution_count": 433,
   "metadata": {},
   "outputs": [
    {
     "name": "stdout",
     "output_type": "stream",
     "text": [
      "the dataframe has [891] rows and [12] columns\n",
      "the columns are : \n",
      "Index(['PassengerId', 'Survived', 'Pclass', 'Name', 'Sex', 'Age', 'SibSp',\n",
      "       'Parch', 'Ticket', 'Fare', 'Cabin', 'Embarked'],\n",
      "      dtype='object')\n"
     ]
    }
   ],
   "source": [
    "# readign data using pandas lib\n",
    "df = pd.read_csv(\"train.csv\")\n",
    "print(f\"the dataframe has [{df.shape[0]}] rows and [{df.shape[1]}] columns\")\n",
    "print(f\"the columns are : \\n{df.columns}\")"
   ]
  },
  {
   "cell_type": "code",
   "execution_count": 434,
   "metadata": {},
   "outputs": [],
   "source": [
    "# df[['PassengerId', 'Survived', 'Pclass', 'Name', 'Sex', 'Age', 'SibSp',\n",
    "#        'Parch', 'Ticket', 'Fare', 'Cabin', 'Embarked']]\n"
   ]
  },
  {
   "cell_type": "code",
   "execution_count": 435,
   "metadata": {},
   "outputs": [
    {
     "name": "stdout",
     "output_type": "stream",
     "text": [
      "each columns has : \n",
      "PassengerId      0\n",
      "Survived         0\n",
      "Pclass           0\n",
      "Name             0\n",
      "Sex              0\n",
      "Age            177\n",
      "SibSp            0\n",
      "Parch            0\n",
      "Ticket           0\n",
      "Fare             0\n",
      "Cabin          687\n",
      "Embarked         2\n",
      "dtype: int64 null values\n"
     ]
    },
    {
     "data": {
      "image/png": "[encoded data removed]",
      "text/plain": [
       "<Figure size 432x288 with 1 Axes>"
      ]
     },
     "metadata": {},
     "output_type": "display_data"
    }
   ],
   "source": [
    "print(f\"each columns has : \\n{df.isnull().sum()} null values\") # how many null does each columns have\n",
    "# print(f\"rows with missing values are : \\n{df[df.isnull().any(axis=1)].head(20)}\") # all te rows that have at least one missing value \n",
    "# heatmap of the missing values \n",
    "sns.heatmap(df.isnull(), cmap=\"viridis\", cbar=False, yticklabels=False)\n",
    "plt.show()\n"
   ]
  },
  {
   "cell_type": "code",
   "execution_count": 436,
   "metadata": {},
   "outputs": [],
   "source": [
    "# convering sex to numeric values \n",
    "df['Sex'] = df['Sex'].map({'male':0 , 'female':1}) # male = 0 , female = 1 "
   ]
  },
  {
   "cell_type": "code",
   "execution_count": 437,
   "metadata": {},
   "outputs": [
    {
     "name": "stderr",
     "output_type": "stream",
     "text": [
      "/tmp/ipykernel_173001/629090152.py:2: FutureWarning: Series.__getitem__ treating keys as positions is deprecated. In a future version, integer keys will always be treated as labels (consistent with DataFrame behavior). To access a value by position, use `ser.iloc[pos]`\n",
      "  df['Age'].fillna(df['Age'].describe().loc[['50%']][0], inplace=True)\n",
      "/tmp/ipykernel_173001/629090152.py:2: FutureWarning: A value is trying to be set on a copy of a DataFrame or Series through chained assignment using an inplace method.\n",
      "The behavior will change in pandas 3.0. This inplace method will never work because the intermediate object on which we are setting values always behaves as a copy.\n",
      "\n",
      "For example, when doing 'df[col].method(value, inplace=True)', try using 'df.method({col: value}, inplace=True)' or df[col] = df[col].method(value) instead, to perform the operation inplace on the original object.\n",
      "\n",
      "\n",
      "  df['Age'].fillna(df['Age'].describe().loc[['50%']][0], inplace=True)\n",
      "/tmp/ipykernel_173001/629090152.py:5: FutureWarning: A value is trying to be set on a copy of a DataFrame or Series through chained assignment using an inplace method.\n",
      "The behavior will change in pandas 3.0. This inplace method will never work because the intermediate object on which we are setting values always behaves as a copy.\n",
      "\n",
      "For example, when doing 'df[col].method(value, inplace=True)', try using 'df.method({col: value}, inplace=True)' or df[col] = df[col].method(value) instead, to perform the operation inplace on the original object.\n",
      "\n",
      "\n",
      "  df['Embarked'].fillna(df['Embarked'].mode()[0], inplace=True)\n"
     ]
    }
   ],
   "source": [
    "# adding some value for the mising values of the age ... (we will add the median of the age)\n",
    "df['Age'].fillna(df['Age'].describe().loc[['50%']][0], inplace=True)\n",
    "\n",
    "#for the Embarked as well \n",
    "df['Embarked'].fillna(df['Embarked'].mode()[0], inplace=True)"
   ]
  },
  {
   "cell_type": "code",
   "execution_count": 438,
   "metadata": {},
   "outputs": [
    {
     "name": "stdout",
     "output_type": "stream",
     "text": [
      "unique values for Embarked is : ['S' 'C' 'Q']\n"
     ]
    }
   ],
   "source": [
    "print(F\"unique values for Embarked is : {df['Embarked'].unique()}\")\n",
    "df = pd.get_dummies(df, columns=['Embarked'], drop_first=True) # if both Q ,S are zero then we can say that it's C"
   ]
  },
  {
   "cell_type": "code",
   "execution_count": 439,
   "metadata": {},
   "outputs": [],
   "source": [
    "df.drop(['Name' , 'Ticket' , 'Cabin'] ,axis=1 , inplace=True) # removign these becuase they dont effect the training"
   ]
  },
  {
   "cell_type": "code",
   "execution_count": 440,
   "metadata": {},
   "outputs": [
    {
     "data": {
      "text/plain": [
       "Index(['PassengerId', 'Survived', 'Pclass', 'Sex', 'Age', 'SibSp', 'Parch',\n",
       "       'Fare', 'Embarked_Q', 'Embarked_S'],\n",
       "      dtype='object')"
      ]
     },
     "execution_count": 440,
     "metadata": {},
     "output_type": "execute_result"
    }
   ],
   "source": [
    "# trying to nomalize the dataset\n",
    "from sklearn.preprocessing import MinMaxScaler , StandardScaler\n",
    "\n",
    "scaler = StandardScaler() # THE SET values between 0 ,1 \n",
    "df[['Age', 'Fare', 'SibSp', 'Parch']] = scaler.fit_transform(df[['Age', 'Fare', 'SibSp', 'Parch']])\n",
    "df.head()\n",
    "df.columns"
   ]
  },
  {
   "cell_type": "code",
   "execution_count": 441,
   "metadata": {},
   "outputs": [],
   "source": [
    "y = df['Survived'] # this is the lables\n",
    "X = df.drop(columns=['PassengerId' , 'Survived'] , axis=1)"
   ]
  },
  {
   "cell_type": "code",
   "execution_count": 442,
   "metadata": {},
   "outputs": [
    {
     "name": "stdout",
     "output_type": "stream",
     "text": [
      "X_train type is : <class 'pandas.core.frame.DataFrame'>\n",
      "X_train size is : (712, 8)\n",
      "X_test size is : (179, 8)\n",
      "y_train size is : (712,)\n",
      "y_test size is : (179,)\n"
     ]
    }
   ],
   "source": [
    "from sklearn.model_selection import train_test_split\n",
    "X_train, X_test, y_train, y_test = train_test_split(X, y, test_size=0.2, random_state=42) # 20% of the data for testing\n",
    "print(f\"X_train type is : {type(X_train)}\")\n",
    "print(f\"X_train size is : {X_train.shape}\")\n",
    "print(f\"X_test size is : {X_test.shape}\")\n",
    "print(f\"y_train size is : {y_train.shape}\")\n",
    "print(f\"y_test size is : {y_test.shape}\")"
   ]
  },
  {
   "cell_type": "code",
   "execution_count": 443,
   "metadata": {},
   "outputs": [],
   "source": [
    "n_x = 8 # this is for the number of features \n",
    "\n",
    "n_h1 = 16 # this is the hidden layer 1 neurans \n",
    "n_h2 = 8 # this is the hidden layer 2 neurans\n",
    "n_y = 1 # output layer (becuase this s a binary classification we have 1)\n",
    "\n",
    "# init for random weights and biases \n",
    "W1 = np.random.randn(n_h1, n_x) * 0.01  # Shape: (n_h1, n_x)\n",
    "b1 = np.zeros((n_h1, 1))  # Shape: (n_h1, 1)\n",
    "W2 = np.random.randn(n_h2, n_h1) * 0.01  # Shape: (n_h2, n_h1)\n",
    "b2 = np.zeros((n_h2, 1))  # Shape: (n_h2, 1)\n",
    "W3 = np.random.randn(n_y, n_h2) * 0.01  # Shape: (n_y, n_h2)\n",
    "b3 = np.zeros((n_y, 1))  # Shape: (n_y, 1)"
   ]
  },
  {
   "cell_type": "markdown",
   "metadata": {},
   "source": [
    "### Activation functions\n",
    "- Relu for hidden layer\n",
    "- sigmoid for output layer"
   ]
  },
  {
   "cell_type": "code",
   "execution_count": 444,
   "metadata": {},
   "outputs": [],
   "source": [
    "def relu(Z):\n",
    "    return np.maximum(0 ,Z)\n",
    "\n",
    "def sigmoid(Z):\n",
    "    Z = np.array(Z, dtype=np.float64) # convert the type so we dont get any error\n",
    "    return 1 / (1 + np.exp(-Z))"
   ]
  },
  {
   "cell_type": "markdown",
   "metadata": {},
   "source": [
    "### forwand propagation\n",
    "- Z[1] = W[1]X + b[1] ==> A[1] = ReLU(Z[1])\n",
    "- Z[2] = W[2]A[1] + b[2] ==> A[2] = sigmoid(Z[2])\n",
    "\n"
   ]
  },
  {
   "cell_type": "code",
   "execution_count": 445,
   "metadata": {},
   "outputs": [],
   "source": [
    "def forward_propagation(X, W1, b1, W2, b2, W3, b3):\n",
    "    # Hidden layer 1\n",
    "    Z1 = np.dot(W1, X) + b1\n",
    "    A1 = relu(Z1)\n",
    "    \n",
    "    # Hidden layer 2\n",
    "    Z2 = np.dot(W2, A1) + b2\n",
    "    A2 = relu(Z2)\n",
    "    \n",
    "    # Output layer\n",
    "    Z3 = np.dot(W3, A2) + b3\n",
    "    A3 = sigmoid(Z3)\n",
    "    \n",
    "    res = (Z1, A1, Z2, A2, Z3, A3)\n",
    "    return A3, res"
   ]
  },
  {
   "cell_type": "markdown",
   "metadata": {},
   "source": [
    "### Cost Function (cross-entropy loss)\n",
    "- J = $-\\frac{1}{m}\\sum_{i=1}^{m} [y^i\\log{({A_{3}}^{(i)})} + (1 - y^{(i)})\\log{(1 -{A_{3}}^{(i)} )}]$"
   ]
  },
  {
   "cell_type": "code",
   "execution_count": 446,
   "metadata": {},
   "outputs": [],
   "source": [
    "def compute_cost(A3, Y):\n",
    "    m = Y.shape[1]  # number of examples\n",
    "    \n",
    "    cost = -np.sum(Y * np.log(A3) + (1 - Y) * np.log(1 - A3)) / m\n",
    "    cost = np.squeeze(cost)  # cost should be scalar\n",
    "    return cost"
   ]
  },
  {
   "cell_type": "markdown",
   "metadata": {},
   "source": [
    "### backward propagation\n",
    "- Gradient for output layer\n",
    "    - error term for output layer is : \n",
    "    $dZ^{[2]} = A^{[2]} - Y$\n",
    "    - then we have <br>\n",
    "     $ dW^{[2]} = \\frac{1}{m}dZ^{[2]}.(A^{[1]})^{T} $ <br>\n",
    "     $ db^{[2]} = \\ \\frac{1}{m}\\sum_{}dZ^{[2]}$ <br>\n",
    "- Gradient for output layer\n",
    "    - propagate the error back <br>\n",
    "    $dA^{[1]} = (W^{[2]})^{T}dZ^{[2]}$ <br>\n",
    "    - for ReLU  , the drivite $\\frac{d}{dx}ReLU(Z)$ is 1 if $z > 0$ and 0 otherwise <br>\n",
    "    $ dZ^{[1]} = dA^{[1]} * g'(Z^{[2]})$ <br>\n",
    "    where $ g'(Z^{[1]}) = 1$ if $Z^{[1]} > 0$ , else 0. <br>\n",
    "    - then <br>\n",
    "    $dW^{[1]} = \\frac{1}{m}dZ^{[1]}.X^{T}$ <br>\n",
    "    $db^{[1]} = \\frac{1}{m}\\sum_{}dZ^{[1]}$"
   ]
  },
  {
   "cell_type": "code",
   "execution_count": 447,
   "metadata": {},
   "outputs": [],
   "source": [
    "def backward_propagation(X, Y, cache, W2, W3):\n",
    "    m = X.shape[1]\n",
    "    Z1, A1, Z2, A2, Z3, A3 = cache\n",
    "\n",
    "    # Output layer error\n",
    "    dZ3 = A3 - Y  # Shape: (1, m)\n",
    "    dW3 = (1/m) * np.dot(dZ3, A2.T)  # Shape: (1, n_h2)\n",
    "    db3 = (1/m) * np.sum(dZ3, axis=1, keepdims=True)\n",
    "\n",
    "    # Hidden layer 2 error\n",
    "    dA2 = np.dot(W3.T, dZ3)  # Shape: (n_h2, m)\n",
    "    dZ2 = dA2 * (Z2 > 0)  # Derivative of ReLU\n",
    "    dW2 = (1/m) * np.dot(dZ2, A1.T)  # Shape: (n_h2, n_h1)\n",
    "    db2 = (1/m) * np.sum(dZ2, axis=1, keepdims=True)\n",
    "\n",
    "    # Hidden layer 1 error\n",
    "    dA1 = np.dot(W2.T, dZ2)  # Shape: (n_h1, m)\n",
    "    dZ1 = dA1 * (Z1 > 0)  # Derivative of ReLU\n",
    "    dW1 = (1/m) * np.dot(dZ1, X.T)  # Shape: (n_h1, n_x)\n",
    "    db1 = (1/m) * np.sum(dZ1, axis=1, keepdims=True)\n",
    "\n",
    "    gradients = {\"dW1\": dW1, \"db1\": db1, \"dW2\": dW2, \"db2\": db2, \"dW3\": dW3, \"db3\": db3}\n",
    "    return gradients"
   ]
  },
  {
   "cell_type": "markdown",
   "metadata": {},
   "source": [
    "### updating the parameters\n",
    "- $parameter = parameter - \\alpha \\times gradinet $"
   ]
  },
  {
   "cell_type": "code",
   "execution_count": 448,
   "metadata": {},
   "outputs": [],
   "source": [
    "def update_parameters(W1, b1, W2, b2, W3, b3, gradients, learning_rate):\n",
    "    W1 = W1 - learning_rate * gradients[\"dW1\"]\n",
    "    b1 = b1 - learning_rate * gradients[\"db1\"]\n",
    "    W2 = W2 - learning_rate * gradients[\"dW2\"]\n",
    "    b2 = b2 - learning_rate * gradients[\"db2\"]\n",
    "    W3 = W3 - learning_rate * gradients[\"dW3\"]\n",
    "    b3 = b3 - learning_rate * gradients[\"db3\"]\n",
    "    \n",
    "    return W1, b1, W2, b2, W3, b3"
   ]
  },
  {
   "cell_type": "code",
   "execution_count": 449,
   "metadata": {},
   "outputs": [],
   "source": [
    "costs = []\n",
    "\n",
    "def neural_network_model(X, Y, n_h1, n_h2, num_iterations=10000, learning_rate=0.01, print_cost=False):\n",
    "    np.random.seed(42)  # for reproducibility\n",
    "    n_x = X.shape[0]\n",
    "    n_y = Y.shape[0]\n",
    "\n",
    "    # Initialize parameters\n",
    "    W1 = np.random.randn(n_h1, n_x) * 0.01\n",
    "    b1 = np.zeros((n_h1, 1))\n",
    "    W2 = np.random.randn(n_h2, n_h1) * 0.01\n",
    "    b2 = np.zeros((n_h2, 1))\n",
    "    W3 = np.random.randn(n_y, n_h2) * 0.01\n",
    "    b3 = np.zeros((n_y, 1))\n",
    "\n",
    "    for i in range(num_iterations):\n",
    "        A3, cache = forward_propagation(X, W1, b1, W2, b2, W3, b3)\n",
    "        \n",
    "        cost = compute_cost(A3, Y)\n",
    "        costs.append(cost)\n",
    "        \n",
    "        gradients = backward_propagation(X, Y, cache, W2, W3)\n",
    "        \n",
    "        W1, b1, W2, b2, W3, b3 = update_parameters(W1, b1, W2, b2, W3, b3, gradients, learning_rate)\n",
    "        \n",
    "        if print_cost and i % 1000 == 0:\n",
    "            print(f\"Cost after iteration {i}: {cost}\")\n",
    "                  \n",
    "    parameters = {\"W1\": W1, \"b1\": b1, \"W2\": W2, \"b2\": b2, \"W3\": W3, \"b3\": b3}\n",
    "    return parameters"
   ]
  },
  {
   "cell_type": "code",
   "execution_count": null,
   "metadata": {},
   "outputs": [
    {
     "name": "stdout",
     "output_type": "stream",
     "text": [
      "Cost after iteration 0: 0.6931465763380827\n",
      "Cost after iteration 1000: 0.6622583132629957\n",
      "Cost after iteration 2000: 0.6540630726492033\n",
      "Cost after iteration 3000: 0.44721326246193377\n",
      "Cost after iteration 4000: 0.410007686015154\n",
      "Cost after iteration 5000: 0.3993344541082644\n",
      "Cost after iteration 6000: 0.3969095750681152\n",
      "Cost after iteration 7000: 0.38921747926286654\n",
      "Cost after iteration 8000: 0.3747427835850771\n",
      "Cost after iteration 9000: 0.3689606258644539\n",
      "Cost after iteration 10000: 0.36449430415942774\n",
      "Cost after iteration 11000: 0.36214074768495225\n",
      "Cost after iteration 12000: 0.3584856989885958\n",
      "Cost after iteration 13000: 0.3561382167440543\n",
      "Cost after iteration 14000: 0.35378483058376947\n",
      "Cost after iteration 15000: 0.35221833036856093\n",
      "Cost after iteration 16000: 0.35248188893308724\n",
      "Cost after iteration 17000: 0.3540903585155798\n",
      "Cost after iteration 18000: 0.35009781446884053\n",
      "Cost after iteration 19000: 0.3489838494943519\n"
     ]
    }
   ],
   "source": [
    "# runnning the code \n",
    "X_train_np = X_train.values.T  # Now shape is (n_x, m_train)\n",
    "y_train_np = y_train.values.reshape(1, -1)  # Shape: (1, m_train)\n",
    "\n",
    "# Similarly for test data:\n",
    "X_test_np = X_test.values.T    # Shape: (n_x, m_test)\n",
    "y_test_np = y_test.values.reshape(1, -1)      # Shape: (1, m_test)\n",
    "\n",
    "# Train the network:\n",
    "parameters = neural_network_model(X_train_np, y_train_np, \n",
    "                                  n_h1=16,  # number of neurons in the first hidden layer\n",
    "                                  n_h2=8,  # number of neurons in the second hidden layer\n",
    "                                  num_iterations=4000, \n",
    "                                  learning_rate=0.1, \n",
    "                                  print_cost=True)"
   ]
  },
  {
   "cell_type": "code",
   "execution_count": 451,
   "metadata": {},
   "outputs": [
    {
     "data": {
      "image/png": "[encoded data removed]",
      "text/plain": [
       "<Figure size 576x432 with 1 Axes>"
      ]
     },
     "metadata": {},
     "output_type": "display_data"
    }
   ],
   "source": [
    "iterations = np.arange(0, len(costs)) \n",
    "\n",
    "plt.figure(figsize=(8, 6))\n",
    "plt.plot(iterations, costs, 'b-', linewidth=2)\n",
    "plt.xlabel(\"Iteration\")\n",
    "plt.ylabel(\"Cost\")\n",
    "plt.title(\"Cost vs. Iterations\")\n",
    "plt.grid(True)\n",
    "plt.show()"
   ]
  },
  {
   "cell_type": "code",
   "execution_count": 452,
   "metadata": {},
   "outputs": [
    {
     "name": "stdout",
     "output_type": "stream",
     "text": [
      "Test Accuracy: 0.770949720670391\n"
     ]
    }
   ],
   "source": [
    "A3_test, _ = forward_propagation(X_test_np, parameters[\"W1\"], parameters[\"b1\"],\n",
    "                                  parameters[\"W2\"], parameters[\"b2\"], parameters[\"W3\"], parameters[\"b3\"])\n",
    "\n",
    "predictions = (A3_test > 0.5).astype(int)\n",
    "\n",
    "accuracy = np.mean(predictions == y_test_np)\n",
    "print(\"Test Accuracy:\", accuracy)"
   ]
  },
  {
   "cell_type": "code",
   "execution_count": 453,
   "metadata": {},
   "outputs": [
    {
     "name": "stdout",
     "output_type": "stream",
     "text": [
      "Survived (1) or Did not Survive (0): [[1]]\n"
     ]
    }
   ],
   "source": [
    "def predict_survival_single(test_data, parameters):\n",
    "    A2_test, _ = forward_propagation(test_data, parameters[\"W1\"], parameters[\"b1\"],\n",
    "                                      parameters[\"W2\"], parameters[\"b2\"], parameters[\"W3\"], parameters[\"b3\"] )\n",
    "    prediction = (A2_test > 0.5).astype(int)\n",
    "    return prediction\n",
    "\n",
    "# Example test case\n",
    "test_data = np.array([[1, 1, 0., 0.0, 0.0, 0.1, False, False]]).T\n",
    "prediction = predict_survival_single(test_data, parameters)\n",
    "print(\"Survived (1) or Did not Survive (0):\", prediction)"
   ]
  },
  {
   "cell_type": "code",
   "execution_count": 454,
   "metadata": {},
   "outputs": [
    {
     "name": "stdout",
     "output_type": "stream",
     "text": [
      "number of the tests are 418\n"
     ]
    }
   ],
   "source": [
    "df_test = pd.read_csv(\"test.csv\")\n",
    "print(f\"number of the tests are {len(df_test)}\")"
   ]
  },
  {
   "cell_type": "code",
   "execution_count": 455,
   "metadata": {},
   "outputs": [],
   "source": [
    "df_test['Sex'] = df_test['Sex'].map({'male': 0, 'female': 1})"
   ]
  },
  {
   "cell_type": "code",
   "execution_count": 456,
   "metadata": {},
   "outputs": [
    {
     "name": "stderr",
     "output_type": "stream",
     "text": [
      "/tmp/ipykernel_173001/1872274311.py:2: FutureWarning: Series.__getitem__ treating keys as positions is deprecated. In a future version, integer keys will always be treated as labels (consistent with DataFrame behavior). To access a value by position, use `ser.iloc[pos]`\n",
      "  df_test['Age'].fillna(df_test['Age'].describe().loc[['50%']][0], inplace=True)\n",
      "/tmp/ipykernel_173001/1872274311.py:2: FutureWarning: A value is trying to be set on a copy of a DataFrame or Series through chained assignment using an inplace method.\n",
      "The behavior will change in pandas 3.0. This inplace method will never work because the intermediate object on which we are setting values always behaves as a copy.\n",
      "\n",
      "For example, when doing 'df[col].method(value, inplace=True)', try using 'df.method({col: value}, inplace=True)' or df[col] = df[col].method(value) instead, to perform the operation inplace on the original object.\n",
      "\n",
      "\n",
      "  df_test['Age'].fillna(df_test['Age'].describe().loc[['50%']][0], inplace=True)\n",
      "/tmp/ipykernel_173001/1872274311.py:4: FutureWarning: A value is trying to be set on a copy of a DataFrame or Series through chained assignment using an inplace method.\n",
      "The behavior will change in pandas 3.0. This inplace method will never work because the intermediate object on which we are setting values always behaves as a copy.\n",
      "\n",
      "For example, when doing 'df[col].method(value, inplace=True)', try using 'df.method({col: value}, inplace=True)' or df[col] = df[col].method(value) instead, to perform the operation inplace on the original object.\n",
      "\n",
      "\n",
      "  df_test['Embarked'].fillna(df_test['Embarked'].mode()[0], inplace=True)\n"
     ]
    }
   ],
   "source": [
    "# adding some value for the mising values of the age ... (we will add the median of the age)\n",
    "df_test['Age'].fillna(df_test['Age'].describe().loc[['50%']][0], inplace=True)\n",
    "#for the Embarked as well \n",
    "df_test['Embarked'].fillna(df_test['Embarked'].mode()[0], inplace=True)"
   ]
  },
  {
   "cell_type": "code",
   "execution_count": 457,
   "metadata": {},
   "outputs": [
    {
     "name": "stdout",
     "output_type": "stream",
     "text": [
      "unique values for Embarked is : ['Q' 'S' 'C']\n"
     ]
    }
   ],
   "source": [
    "print(F\"unique values for Embarked is : {df_test['Embarked'].unique()}\")\n",
    "df_test = pd.get_dummies(df_test, columns=['Embarked'], drop_first=True) # if both Q ,S are zero then we can say that it's C"
   ]
  },
  {
   "cell_type": "code",
   "execution_count": 458,
   "metadata": {},
   "outputs": [],
   "source": [
    "df_test.drop(['Name' , 'Ticket' , 'Cabin'] ,axis=1 , inplace=True) # removign these becuase they dont effect the training"
   ]
  },
  {
   "cell_type": "code",
   "execution_count": 459,
   "metadata": {},
   "outputs": [
    {
     "data": {
      "text/plain": [
       "Index(['PassengerId', 'Pclass', 'Sex', 'Age', 'SibSp', 'Parch', 'Fare',\n",
       "       'Embarked_Q', 'Embarked_S'],\n",
       "      dtype='object')"
      ]
     },
     "execution_count": 459,
     "metadata": {},
     "output_type": "execute_result"
    }
   ],
   "source": [
    "df_test[['Age', 'Fare', 'SibSp', 'Parch']] = scaler.fit_transform(df_test[['Age', 'Fare', 'SibSp', 'Parch']])\n",
    "df_test.head()\n",
    "df_test.columns"
   ]
  },
  {
   "cell_type": "code",
   "execution_count": 460,
   "metadata": {},
   "outputs": [],
   "source": [
    "X_test_df = df_test.drop(columns=['PassengerId'], axis=1).values.T"
   ]
  },
  {
   "cell_type": "code",
   "execution_count": 461,
   "metadata": {},
   "outputs": [
    {
     "name": "stderr",
     "output_type": "stream",
     "text": [
      "/tmp/ipykernel_173001/1958287605.py:2: RuntimeWarning: invalid value encountered in maximum\n",
      "  return np.maximum(0 ,Z)\n"
     ]
    }
   ],
   "source": [
    "test_predictions, _ = forward_propagation(X_test_df, parameters[\"W1\"], parameters[\"b1\"],\n",
    "                                          parameters[\"W2\"], parameters[\"b2\"], parameters[\"W3\"], parameters[\"b3\"])\n",
    "test_predictions = (test_predictions > 0.5).astype(int)"
   ]
  },
  {
   "cell_type": "code",
   "execution_count": 462,
   "metadata": {},
   "outputs": [
    {
     "name": "stdout",
     "output_type": "stream",
     "text": [
      "     PassengerId  Survived\n",
      "0            892         0\n",
      "1            893         1\n",
      "2            894         0\n",
      "3            895         0\n",
      "4            896         1\n",
      "..           ...       ...\n",
      "413         1305         0\n",
      "414         1306         1\n",
      "415         1307         0\n",
      "416         1308         0\n",
      "417         1309         0\n",
      "\n",
      "[418 rows x 2 columns]\n"
     ]
    }
   ],
   "source": [
    "df_test['Survived'] = test_predictions.T\n",
    "print(df_test[['PassengerId', 'Survived']])"
   ]
  },
  {
   "cell_type": "code",
   "execution_count": 463,
   "metadata": {},
   "outputs": [],
   "source": [
    "# same to csv\n",
    "df_test[['PassengerId', 'Survived']].to_csv('test_predictions.csv', index=False)"
   ]
  },
  {
   "cell_type": "code",
   "execution_count": 464,
   "metadata": {},
   "outputs": [
    {
     "name": "stdout",
     "output_type": "stream",
     "text": [
      "Model Accuracy: 75.60%\n"
     ]
    }
   ],
   "source": [
    "# comparing with the actual datatest awnser \n",
    "predictions_df = pd.read_csv(\"test_predictions.csv\")\n",
    "correct_answers_df = pd.read_csv(\"correct_awnser.csv\")\n",
    "\n",
    "y_pred = predictions_df[\"Survived\"].values  # Predictions\n",
    "y_true = correct_answers_df[\"Survived\"].values  # Ground truth\n",
    "\n",
    "accuracy = np.mean(y_pred == y_true)\n",
    "print(f\"Model Accuracy: {accuracy * 100:.2f}%\")"
   ]
  }
 ],
 "metadata": {
  "kernelspec": {
   "display_name": "Python 3",
   "language": "python",
   "name": "python3"
  },
  "language_info": {
   "codemirror_mode": {
    "name": "ipython",
    "version": 3
   },
   "file_extension": ".py",
   "mimetype": "text/x-python",
   "name": "python",
   "nbconvert_exporter": "python",
   "pygments_lexer": "ipython3",
   "version": "3.10.12"
  }
 },
 "nbformat": 4,
 "nbformat_minor": 2
}
