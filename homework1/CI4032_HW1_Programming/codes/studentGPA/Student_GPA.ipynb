{
 "cells": [
  {
   "cell_type": "code",
   "execution_count": 172,
   "metadata": {},
   "outputs": [],
   "source": [
    "import torch \n",
    "import torch.nn as nn\n",
    "import torch.optim as optim\n",
    "import matplotlib.pyplot as plt\n",
    "\n",
    "import pandas as pd\n",
    "import numpy as np"
   ]
  },
  {
   "cell_type": "code",
   "execution_count": 173,
   "metadata": {},
   "outputs": [
    {
     "data": {
      "text/plain": [
       "StudentID              0\n",
       "Age                    0\n",
       "Gender                 0\n",
       "Ethnicity              0\n",
       "ParentalEducation    142\n",
       "StudyTimeWeekly        0\n",
       "Absences               0\n",
       "Tutoring               0\n",
       "ParentalSupport      132\n",
       "Extracurricular        0\n",
       "Sports                 0\n",
       "Music                  0\n",
       "Volunteering           0\n",
       "GPA                    0\n",
       "dtype: int64"
      ]
     },
     "execution_count": 173,
     "metadata": {},
     "output_type": "execute_result"
    }
   ],
   "source": [
    "df = pd.read_csv(\"train.csv\")\n",
    "df.isnull().sum()\n"
   ]
  },
  {
   "cell_type": "markdown",
   "metadata": {},
   "source": [
    "### numeric fields \n",
    "- some of the fields like ParentalEducation , ParentalSupport should be in numeric form \n"
   ]
  },
  {
   "cell_type": "code",
   "execution_count": 174,
   "metadata": {},
   "outputs": [
    {
     "name": "stdout",
     "output_type": "stream",
     "text": [
      "\n",
      "Replaced ParentalEducation nulls with: Some College\n",
      "Replaced ParentalSupport nulls with: Moderate\n"
     ]
    },
    {
     "name": "stderr",
     "output_type": "stream",
     "text": [
      "/tmp/ipykernel_7688/1684217187.py:6: FutureWarning: A value is trying to be set on a copy of a DataFrame or Series through chained assignment using an inplace method.\n",
      "The behavior will change in pandas 3.0. This inplace method will never work because the intermediate object on which we are setting values always behaves as a copy.\n",
      "\n",
      "For example, when doing 'df[col].method(value, inplace=True)', try using 'df.method({col: value}, inplace=True)' or df[col] = df[col].method(value) instead, to perform the operation inplace on the original object.\n",
      "\n",
      "\n",
      "  df['ParentalEducation'].fillna(education_mode, inplace=True)\n",
      "/tmp/ipykernel_7688/1684217187.py:7: FutureWarning: A value is trying to be set on a copy of a DataFrame or Series through chained assignment using an inplace method.\n",
      "The behavior will change in pandas 3.0. This inplace method will never work because the intermediate object on which we are setting values always behaves as a copy.\n",
      "\n",
      "For example, when doing 'df[col].method(value, inplace=True)', try using 'df.method({col: value}, inplace=True)' or df[col] = df[col].method(value) instead, to perform the operation inplace on the original object.\n",
      "\n",
      "\n",
      "  df['ParentalSupport'].fillna(support_mode, inplace=True)\n"
     ]
    },
    {
     "data": {
      "text/plain": [
       "StudentID            0\n",
       "Age                  0\n",
       "Gender               0\n",
       "Ethnicity            0\n",
       "ParentalEducation    0\n",
       "StudyTimeWeekly      0\n",
       "Absences             0\n",
       "Tutoring             0\n",
       "ParentalSupport      0\n",
       "Extracurricular      0\n",
       "Sports               0\n",
       "Music                0\n",
       "Volunteering         0\n",
       "GPA                  0\n",
       "dtype: int64"
      ]
     },
     "execution_count": 174,
     "metadata": {},
     "output_type": "execute_result"
    }
   ],
   "source": [
    "# replacing the missing value with the most frequesnt ones in the dataset\n",
    "\n",
    "education_mode = df['ParentalEducation'].mode()[0]\n",
    "support_mode = df['ParentalSupport'].mode()[0]\n",
    "\n",
    "df['ParentalEducation'].fillna(education_mode, inplace=True)\n",
    "df['ParentalSupport'].fillna(support_mode, inplace=True)\n",
    "\n",
    "print(f\"\\nReplaced ParentalEducation nulls with: {education_mode}\")\n",
    "print(f\"Replaced ParentalSupport nulls with: {support_mode}\")\n",
    "df.isnull().sum()"
   ]
  },
  {
   "cell_type": "code",
   "execution_count": 175,
   "metadata": {},
   "outputs": [],
   "source": [
    "# categorial to some numeric value\n",
    "\n",
    "df['ParentalEducation'] = pd.factorize(df['ParentalEducation'])[0]\n",
    "df['ParentalSupport'] = pd.factorize(df['ParentalSupport'])[0]\n",
    "df['Ethnicity'] = pd.factorize(df['Ethnicity'])[0]"
   ]
  },
  {
   "cell_type": "code",
   "execution_count": 176,
   "metadata": {},
   "outputs": [],
   "source": [
    "# diffrentiat ethe values and stuff\n",
    "X = df.drop(['StudentID', 'GPA'], axis=1)\n",
    "y = df['GPA']"
   ]
  },
  {
   "cell_type": "code",
   "execution_count": 177,
   "metadata": {},
   "outputs": [
    {
     "name": "stdout",
     "output_type": "stream",
     "text": [
      "\n",
      "Training set shapes:\n",
      "X_train: (1224, 12)\n",
      "y_train: (1224,)\n",
      "\n",
      "Testing set shapes:\n",
      "X_test: (306, 12)\n",
      "y_test: (306,)\n"
     ]
    }
   ],
   "source": [
    "from sklearn.model_selection import train_test_split\n",
    "from sklearn.preprocessing import StandardScaler\n",
    "\n",
    "# scaling the data\n",
    "scaler = StandardScaler()\n",
    "X_scaled = scaler.fit_transform(X)\n",
    "X_scaled = pd.DataFrame(X_scaled, columns=X.columns)\n",
    "\n",
    "X_train, X_test, y_train, y_test = train_test_split(X_scaled, y, test_size=0.2, random_state=42)\n",
    "\n",
    "X_scaled = pd.DataFrame(X_scaled, columns=X.columns)\n",
    "\n",
    "print(\"\\nTraining set shapes:\")\n",
    "print(f\"X_train: {X_train.shape}\")\n",
    "print(f\"y_train: {y_train.shape}\")\n",
    "\n",
    "print(\"\\nTesting set shapes:\")\n",
    "print(f\"X_test: {X_test.shape}\")\n",
    "print(f\"y_test: {y_test.shape}\")\n"
   ]
  },
  {
   "cell_type": "code",
   "execution_count": 178,
   "metadata": {},
   "outputs": [],
   "source": [
    "# vonersion to PyTorch tensors \n",
    "X_train_tensor = torch.tensor(X_train.values, dtype=torch.float32)\n",
    "X_test_tensor = torch.tensor(X_test.values, dtype=torch.float32)\n",
    "y_train_tensor = torch.tensor(y_train.values, dtype=torch.float32).view(-1, 1)\n",
    "y_test_tensor = torch.tensor(y_test.values, dtype=torch.float32).view(-1, 1)"
   ]
  },
  {
   "cell_type": "code",
   "execution_count": 179,
   "metadata": {},
   "outputs": [],
   "source": [
    "from torch.utils.data import DataLoader, TensorDataset\n",
    "#Create data loaders\n",
    "\n",
    "train_dataset = TensorDataset(X_train_tensor, y_train_tensor)\n",
    "test_dataset = TensorDataset(X_test_tensor, y_test_tensor)\n",
    "\n",
    "train_loader = DataLoader(train_dataset, batch_size=32, shuffle=True)\n",
    "test_loader = DataLoader(test_dataset, batch_size=32, shuffle=False)\n"
   ]
  },
  {
   "cell_type": "code",
   "execution_count": 180,
   "metadata": {},
   "outputs": [],
   "source": [
    "class ImprovedNN(nn.Module):\n",
    "    def __init__(self, input_dim):\n",
    "        super(ImprovedNN, self).__init__()\n",
    "        self.layer1 = nn.Linear(input_dim, 128)\n",
    "        self.layer2 = nn.Linear(128, 64)\n",
    "        self.layer3 = nn.Linear(64, 32)\n",
    "        self.layer4 = nn.Linear(32, 1)\n",
    "        self.relu = nn.ReLU()\n",
    "        self.dropout = nn.Dropout(0.5)\n",
    "        \n",
    "    def forward(self, x):\n",
    "        x = self.relu(self.layer1(x))\n",
    "        x = self.dropout(x)\n",
    "        x = self.relu(self.layer2(x))\n",
    "        x = self.dropout(x)\n",
    "        x = self.relu(self.layer3(x))\n",
    "        x = self.layer4(x)\n",
    "        return x"
   ]
  },
  {
   "cell_type": "code",
   "execution_count": 193,
   "metadata": {},
   "outputs": [
    {
     "data": {
      "text/plain": [
       "ImprovedNN(\n",
       "  (layer1): Linear(in_features=12, out_features=128, bias=True)\n",
       "  (layer2): Linear(in_features=128, out_features=64, bias=True)\n",
       "  (layer3): Linear(in_features=64, out_features=32, bias=True)\n",
       "  (layer4): Linear(in_features=32, out_features=1, bias=True)\n",
       "  (relu): ReLU()\n",
       "  (dropout): Dropout(p=0.5, inplace=False)\n",
       ")"
      ]
     },
     "execution_count": 193,
     "metadata": {},
     "output_type": "execute_result"
    }
   ],
   "source": [
    "input_dim = X_train_tensor.shape[1]\n",
    "model = ImprovedNN(input_dim)\n",
    "criterion = nn.MSELoss()\n",
    "optimizer = optim.Adam(model.parameters(), lr=0.001)\n",
    "num_epochs = 2000\n",
    "patience = 2000\n",
    "best_loss = float('inf')\n",
    "early_stop_counter = 0\n",
    "model.train()"
   ]
  },
  {
   "cell_type": "code",
   "execution_count": 182,
   "metadata": {},
   "outputs": [
    {
     "name": "stdout",
     "output_type": "stream",
     "text": [
      "Epoch [10/1000], Loss: 0.2763\n",
      "Epoch [20/1000], Loss: 0.1998\n",
      "Epoch [30/1000], Loss: 0.1503\n",
      "Epoch [40/1000], Loss: 0.1225\n",
      "Epoch [50/1000], Loss: 0.1101\n",
      "Epoch [60/1000], Loss: 0.1121\n",
      "Epoch [70/1000], Loss: 0.0936\n",
      "Epoch [80/1000], Loss: 0.0967\n",
      "Epoch [90/1000], Loss: 0.0921\n",
      "Epoch [100/1000], Loss: 0.0803\n",
      "Epoch [110/1000], Loss: 0.0807\n",
      "Epoch [120/1000], Loss: 0.0738\n",
      "Epoch [130/1000], Loss: 0.0718\n",
      "Epoch [140/1000], Loss: 0.0698\n",
      "Epoch [150/1000], Loss: 0.0658\n",
      "Epoch [160/1000], Loss: 0.0684\n",
      "Epoch [170/1000], Loss: 0.0688\n",
      "Epoch [180/1000], Loss: 0.0690\n",
      "Epoch [190/1000], Loss: 0.0645\n",
      "Epoch [200/1000], Loss: 0.0619\n",
      "Epoch [210/1000], Loss: 0.0628\n",
      "Epoch [220/1000], Loss: 0.0644\n",
      "Epoch [230/1000], Loss: 0.0615\n",
      "Epoch [240/1000], Loss: 0.0626\n",
      "Epoch [250/1000], Loss: 0.0609\n",
      "Epoch [260/1000], Loss: 0.0559\n",
      "Epoch [270/1000], Loss: 0.0580\n",
      "Epoch [280/1000], Loss: 0.0557\n",
      "Epoch [290/1000], Loss: 0.0567\n",
      "Epoch [300/1000], Loss: 0.0536\n",
      "Epoch [310/1000], Loss: 0.0596\n",
      "Epoch [320/1000], Loss: 0.0530\n",
      "Epoch [330/1000], Loss: 0.0578\n",
      "Epoch [340/1000], Loss: 0.0544\n",
      "Epoch [350/1000], Loss: 0.0564\n",
      "Epoch [360/1000], Loss: 0.0542\n",
      "Epoch [370/1000], Loss: 0.0584\n",
      "Epoch [380/1000], Loss: 0.0549\n",
      "Epoch [390/1000], Loss: 0.0555\n",
      "Epoch [400/1000], Loss: 0.0514\n",
      "Epoch [410/1000], Loss: 0.0525\n",
      "Epoch [420/1000], Loss: 0.0552\n",
      "Epoch [430/1000], Loss: 0.0509\n",
      "Epoch [440/1000], Loss: 0.0523\n",
      "Epoch [450/1000], Loss: 0.0516\n",
      "Epoch [460/1000], Loss: 0.0555\n",
      "Epoch [470/1000], Loss: 0.0526\n",
      "Epoch [480/1000], Loss: 0.0519\n",
      "Epoch [490/1000], Loss: 0.0499\n",
      "Epoch [500/1000], Loss: 0.0517\n",
      "Epoch [510/1000], Loss: 0.0523\n",
      "Epoch [520/1000], Loss: 0.0485\n",
      "Epoch [530/1000], Loss: 0.0502\n",
      "Epoch [540/1000], Loss: 0.0513\n",
      "Epoch [550/1000], Loss: 0.0523\n",
      "Epoch [560/1000], Loss: 0.0513\n",
      "Epoch [570/1000], Loss: 0.0490\n",
      "Epoch [580/1000], Loss: 0.0488\n",
      "Epoch [590/1000], Loss: 0.0515\n",
      "Epoch [600/1000], Loss: 0.0496\n",
      "Epoch [610/1000], Loss: 0.0522\n",
      "Epoch [620/1000], Loss: 0.0501\n",
      "Epoch [630/1000], Loss: 0.0501\n",
      "Epoch [640/1000], Loss: 0.0517\n",
      "Epoch [650/1000], Loss: 0.0502\n",
      "Epoch [660/1000], Loss: 0.0483\n",
      "Epoch [670/1000], Loss: 0.0475\n",
      "Epoch [680/1000], Loss: 0.0506\n",
      "Epoch [690/1000], Loss: 0.0477\n",
      "Epoch [700/1000], Loss: 0.0474\n",
      "Epoch [710/1000], Loss: 0.0481\n",
      "Epoch [720/1000], Loss: 0.0484\n",
      "Epoch [730/1000], Loss: 0.0474\n",
      "Epoch [740/1000], Loss: 0.0508\n",
      "Epoch [750/1000], Loss: 0.0493\n",
      "Epoch [760/1000], Loss: 0.0510\n",
      "Epoch [770/1000], Loss: 0.0501\n",
      "Epoch [780/1000], Loss: 0.0456\n",
      "Epoch [790/1000], Loss: 0.0503\n",
      "Epoch [800/1000], Loss: 0.0465\n",
      "Epoch [810/1000], Loss: 0.0471\n",
      "Epoch [820/1000], Loss: 0.0491\n",
      "Epoch [830/1000], Loss: 0.0479\n",
      "Epoch [840/1000], Loss: 0.0491\n",
      "Epoch [850/1000], Loss: 0.0488\n",
      "Epoch [860/1000], Loss: 0.0484\n",
      "Epoch [870/1000], Loss: 0.0486\n",
      "Epoch [880/1000], Loss: 0.0489\n",
      "Epoch [890/1000], Loss: 0.0496\n",
      "Epoch [900/1000], Loss: 0.0450\n",
      "Epoch [910/1000], Loss: 0.0470\n",
      "Epoch [920/1000], Loss: 0.0428\n",
      "Epoch [930/1000], Loss: 0.0453\n",
      "Epoch [940/1000], Loss: 0.0471\n",
      "Epoch [950/1000], Loss: 0.0461\n",
      "Epoch [960/1000], Loss: 0.0471\n",
      "Epoch [970/1000], Loss: 0.0503\n",
      "Epoch [980/1000], Loss: 0.0490\n",
      "Epoch [990/1000], Loss: 0.0451\n",
      "Epoch [1000/1000], Loss: 0.0465\n"
     ]
    }
   ],
   "source": [
    "costs = []\n",
    "for epoch in range(num_epochs):\n",
    "    running_loss = 0.0\n",
    "    for inputs, targets in train_loader:\n",
    "        optimizer.zero_grad()\n",
    "        outputs = model(inputs)\n",
    "        loss = criterion(outputs, targets)\n",
    "        costs.append(loss.item())\n",
    "        loss.backward()\n",
    "        optimizer.step()\n",
    "        running_loss += loss.item()\n",
    "\n",
    "    avg_loss = running_loss / len(train_loader)\n",
    "    \n",
    "    if avg_loss < best_loss:\n",
    "        best_loss = avg_loss\n",
    "        early_stop_counter = 0\n",
    "    else:\n",
    "        early_stop_counter += 1\n",
    "\n",
    "    if early_stop_counter >= patience:\n",
    "        print(f\"Early stopping at epoch {epoch+1}\")\n",
    "        break\n",
    "\n",
    "    if (epoch+1) % 10 == 0:\n",
    "        print(f\"Epoch [{epoch+1}/{num_epochs}], Loss: {avg_loss:.4f}\")"
   ]
  },
  {
   "cell_type": "code",
   "execution_count": 183,
   "metadata": {},
   "outputs": [
    {
     "data": {
      "image/png": "[encoded data removed]",
      "text/plain": [
       "<Figure size 576x432 with 1 Axes>"
      ]
     },
     "metadata": {
      "needs_background": "light"
     },
     "output_type": "display_data"
    }
   ],
   "source": [
    "# ploting the cost-epoch\n",
    "iterations = np.arange(0, len(costs))\n",
    "with torch.no_grad():\n",
    "    plt.figure(figsize=(8, 6))\n",
    "    plt.plot(iterations, costs, 'b-', linewidth=2)\n",
    "    plt.xlabel(\"Iteration\")\n",
    "    plt.ylabel(\"Cost\")\n",
    "    plt.title(\"Cost vs. Iterations\")\n",
    "    plt.grid(True)\n",
    "    plt.show()"
   ]
  },
  {
   "cell_type": "code",
   "execution_count": 184,
   "metadata": {},
   "outputs": [
    {
     "name": "stdout",
     "output_type": "stream",
     "text": [
      "Test Loss: 0.1310\n"
     ]
    }
   ],
   "source": [
    "model.eval()\n",
    "with torch.no_grad():\n",
    "    test_loss = 0.0\n",
    "    for inputs, targets in test_loader:\n",
    "        outputs = model(inputs)\n",
    "        loss = criterion(outputs, targets)\n",
    "        test_loss += loss.item()\n",
    "    print(f\"Test Loss: {test_loss/len(test_loader):.4f}\")"
   ]
  },
  {
   "cell_type": "code",
   "execution_count": 185,
   "metadata": {},
   "outputs": [],
   "source": [
    "test_df = pd.read_csv('test.csv')  # Ensure this is the correct path to your test CSV file"
   ]
  },
  {
   "cell_type": "code",
   "execution_count": 186,
   "metadata": {},
   "outputs": [
    {
     "name": "stdout",
     "output_type": "stream",
     "text": [
      "Missing values in the test dataset before replacement:\n",
      "StudentID             0\n",
      "Age                   0\n",
      "Gender                0\n",
      "Ethnicity             0\n",
      "ParentalEducation    40\n",
      "StudyTimeWeekly       0\n",
      "Absences              0\n",
      "Tutoring              0\n",
      "ParentalSupport      30\n",
      "Extracurricular       0\n",
      "Sports                0\n",
      "Music                 0\n",
      "Volunteering          0\n",
      "GPA                   0\n",
      "dtype: int64\n"
     ]
    }
   ],
   "source": [
    "print(\"Missing values in the test dataset before replacement:\")\n",
    "print(test_df.isnull().sum())"
   ]
  },
  {
   "cell_type": "code",
   "execution_count": 187,
   "metadata": {},
   "outputs": [
    {
     "name": "stderr",
     "output_type": "stream",
     "text": [
      "/tmp/ipykernel_7688/1716585061.py:1: FutureWarning: A value is trying to be set on a copy of a DataFrame or Series through chained assignment using an inplace method.\n",
      "The behavior will change in pandas 3.0. This inplace method will never work because the intermediate object on which we are setting values always behaves as a copy.\n",
      "\n",
      "For example, when doing 'df[col].method(value, inplace=True)', try using 'df.method({col: value}, inplace=True)' or df[col] = df[col].method(value) instead, to perform the operation inplace on the original object.\n",
      "\n",
      "\n",
      "  test_df['ParentalEducation'].fillna(education_mode, inplace=True)\n",
      "/tmp/ipykernel_7688/1716585061.py:2: FutureWarning: A value is trying to be set on a copy of a DataFrame or Series through chained assignment using an inplace method.\n",
      "The behavior will change in pandas 3.0. This inplace method will never work because the intermediate object on which we are setting values always behaves as a copy.\n",
      "\n",
      "For example, when doing 'df[col].method(value, inplace=True)', try using 'df.method({col: value}, inplace=True)' or df[col] = df[col].method(value) instead, to perform the operation inplace on the original object.\n",
      "\n",
      "\n",
      "  test_df['ParentalSupport'].fillna(support_mode, inplace=True)\n"
     ]
    }
   ],
   "source": [
    "test_df['ParentalEducation'].fillna(education_mode, inplace=True)\n",
    "test_df['ParentalSupport'].fillna(support_mode, inplace=True)"
   ]
  },
  {
   "cell_type": "code",
   "execution_count": 188,
   "metadata": {},
   "outputs": [],
   "source": [
    "test_df['ParentalEducation'] = pd.factorize(test_df['ParentalEducation'])[0]\n",
    "test_df['ParentalSupport'] = pd.factorize(test_df['ParentalSupport'])[0]\n",
    "test_df['Ethnicity'] = pd.factorize(test_df['Ethnicity'])[0]"
   ]
  },
  {
   "cell_type": "code",
   "execution_count": 189,
   "metadata": {},
   "outputs": [],
   "source": [
    "X_test_new = test_df.drop(['StudentID', 'GPA'], axis=1)\n",
    "y_test_new = test_df['GPA']"
   ]
  },
  {
   "cell_type": "code",
   "execution_count": 190,
   "metadata": {},
   "outputs": [],
   "source": [
    "X_test_new_scaled = scaler.transform(X_test_new)\n",
    "X_test_new_scaled = pd.DataFrame(X_test_new_scaled, columns=X_test_new.columns)\n",
    "\n",
    "# Convert data to PyTorch tensors\n",
    "X_test_new_tensor = torch.tensor(X_test_new_scaled.values, dtype=torch.float32)\n",
    "y_test_new_tensor = torch.tensor(y_test_new.values, dtype=torch.float32).view(-1, 1)"
   ]
  },
  {
   "cell_type": "code",
   "execution_count": 191,
   "metadata": {},
   "outputs": [],
   "source": [
    "model.eval()\n",
    "with torch.no_grad():\n",
    "    y_test_pred = model(X_test_new_tensor)"
   ]
  },
  {
   "cell_type": "code",
   "execution_count": null,
   "metadata": {},
   "outputs": [
    {
     "name": "stdout",
     "output_type": "stream",
     "text": [
      "R² score on the test data: 0.8427\n"
     ]
    }
   ],
   "source": [
    "from sklearn.metrics import r2_score\n",
    "r2 = r2_score(y_test_new_tensor.numpy(), y_test_pred.numpy())\n",
    "print(f\"R² score on the test data: {r2:.4f}\")"
   ]
  }
 ],
 "metadata": {
  "kernelspec": {
   "display_name": "Python 3",
   "language": "python",
   "name": "python3"
  },
  "language_info": {
   "codemirror_mode": {
    "name": "ipython",
    "version": 3
   },
   "file_extension": ".py",
   "mimetype": "text/x-python",
   "name": "python",
   "nbconvert_exporter": "python",
   "pygments_lexer": "ipython3",
   "version": "3.10.12"
  }
 },
 "nbformat": 4,
 "nbformat_minor": 2
}
