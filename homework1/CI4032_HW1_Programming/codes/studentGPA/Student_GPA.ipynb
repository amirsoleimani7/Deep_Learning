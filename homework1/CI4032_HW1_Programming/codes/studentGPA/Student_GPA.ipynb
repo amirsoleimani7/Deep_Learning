{
 "cells": [
  {
   "cell_type": "code",
   "execution_count": 194,
   "metadata": {},
   "outputs": [],
   "source": [
    "import torch \n",
    "import torch.nn as nn\n",
    "import torch.optim as optim\n",
    "import matplotlib.pyplot as plt\n",
    "\n",
    "import pandas as pd\n",
    "import numpy as np"
   ]
  },
  {
   "cell_type": "code",
   "execution_count": 195,
   "metadata": {},
   "outputs": [
    {
     "data": {
      "text/plain": [
       "StudentID              0\n",
       "Age                    0\n",
       "Gender                 0\n",
       "Ethnicity              0\n",
       "ParentalEducation    142\n",
       "StudyTimeWeekly        0\n",
       "Absences               0\n",
       "Tutoring               0\n",
       "ParentalSupport      132\n",
       "Extracurricular        0\n",
       "Sports                 0\n",
       "Music                  0\n",
       "Volunteering           0\n",
       "GPA                    0\n",
       "dtype: int64"
      ]
     },
     "execution_count": 195,
     "metadata": {},
     "output_type": "execute_result"
    }
   ],
   "source": [
    "df = pd.read_csv(\"train.csv\")\n",
    "df.isnull().sum()\n"
   ]
  },
  {
   "cell_type": "markdown",
   "metadata": {},
   "source": [
    "### numeric fields \n",
    "- some of the fields like ParentalEducation , ParentalSupport should be in numeric form \n"
   ]
  },
  {
   "cell_type": "code",
   "execution_count": 196,
   "metadata": {},
   "outputs": [
    {
     "name": "stdout",
     "output_type": "stream",
     "text": [
      "\n",
      "Replaced ParentalEducation nulls with: Some College\n",
      "Replaced ParentalSupport nulls with: Moderate\n"
     ]
    },
    {
     "name": "stderr",
     "output_type": "stream",
     "text": [
      "/tmp/ipykernel_7688/1684217187.py:6: FutureWarning: A value is trying to be set on a copy of a DataFrame or Series through chained assignment using an inplace method.\n",
      "The behavior will change in pandas 3.0. This inplace method will never work because the intermediate object on which we are setting values always behaves as a copy.\n",
      "\n",
      "For example, when doing 'df[col].method(value, inplace=True)', try using 'df.method({col: value}, inplace=True)' or df[col] = df[col].method(value) instead, to perform the operation inplace on the original object.\n",
      "\n",
      "\n",
      "  df['ParentalEducation'].fillna(education_mode, inplace=True)\n",
      "/tmp/ipykernel_7688/1684217187.py:7: FutureWarning: A value is trying to be set on a copy of a DataFrame or Series through chained assignment using an inplace method.\n",
      "The behavior will change in pandas 3.0. This inplace method will never work because the intermediate object on which we are setting values always behaves as a copy.\n",
      "\n",
      "For example, when doing 'df[col].method(value, inplace=True)', try using 'df.method({col: value}, inplace=True)' or df[col] = df[col].method(value) instead, to perform the operation inplace on the original object.\n",
      "\n",
      "\n",
      "  df['ParentalSupport'].fillna(support_mode, inplace=True)\n"
     ]
    },
    {
     "data": {
      "text/plain": [
       "StudentID            0\n",
       "Age                  0\n",
       "Gender               0\n",
       "Ethnicity            0\n",
       "ParentalEducation    0\n",
       "StudyTimeWeekly      0\n",
       "Absences             0\n",
       "Tutoring             0\n",
       "ParentalSupport      0\n",
       "Extracurricular      0\n",
       "Sports               0\n",
       "Music                0\n",
       "Volunteering         0\n",
       "GPA                  0\n",
       "dtype: int64"
      ]
     },
     "execution_count": 196,
     "metadata": {},
     "output_type": "execute_result"
    }
   ],
   "source": [
    "# replacing the missing value with the most frequesnt ones in the dataset\n",
    "\n",
    "education_mode = df['ParentalEducation'].mode()[0]\n",
    "support_mode = df['ParentalSupport'].mode()[0]\n",
    "\n",
    "df['ParentalEducation'].fillna(education_mode, inplace=True)\n",
    "df['ParentalSupport'].fillna(support_mode, inplace=True)\n",
    "\n",
    "print(f\"\\nReplaced ParentalEducation nulls with: {education_mode}\")\n",
    "print(f\"Replaced ParentalSupport nulls with: {support_mode}\")\n",
    "df.isnull().sum()"
   ]
  },
  {
   "cell_type": "code",
   "execution_count": 197,
   "metadata": {},
   "outputs": [],
   "source": [
    "# categorial to some numeric value\n",
    "\n",
    "df['ParentalEducation'] = pd.factorize(df['ParentalEducation'])[0]\n",
    "df['ParentalSupport'] = pd.factorize(df['ParentalSupport'])[0]\n",
    "df['Ethnicity'] = pd.factorize(df['Ethnicity'])[0]"
   ]
  },
  {
   "cell_type": "code",
   "execution_count": 198,
   "metadata": {},
   "outputs": [],
   "source": [
    "# diffrentiat ethe values and stuff\n",
    "X = df.drop(['StudentID', 'GPA'], axis=1)\n",
    "y = df['GPA']"
   ]
  },
  {
   "cell_type": "code",
   "execution_count": 199,
   "metadata": {},
   "outputs": [
    {
     "name": "stdout",
     "output_type": "stream",
     "text": [
      "\n",
      "Training set shapes:\n",
      "X_train: (1224, 12)\n",
      "y_train: (1224,)\n",
      "\n",
      "Testing set shapes:\n",
      "X_test: (306, 12)\n",
      "y_test: (306,)\n"
     ]
    }
   ],
   "source": [
    "from sklearn.model_selection import train_test_split\n",
    "from sklearn.preprocessing import StandardScaler\n",
    "\n",
    "# scaling the data\n",
    "scaler = StandardScaler()\n",
    "X_scaled = scaler.fit_transform(X)\n",
    "X_scaled = pd.DataFrame(X_scaled, columns=X.columns)\n",
    "\n",
    "X_train, X_test, y_train, y_test = train_test_split(X_scaled, y, test_size=0.2, random_state=42)\n",
    "\n",
    "X_scaled = pd.DataFrame(X_scaled, columns=X.columns)\n",
    "\n",
    "print(\"\\nTraining set shapes:\")\n",
    "print(f\"X_train: {X_train.shape}\")\n",
    "print(f\"y_train: {y_train.shape}\")\n",
    "\n",
    "print(\"\\nTesting set shapes:\")\n",
    "print(f\"X_test: {X_test.shape}\")\n",
    "print(f\"y_test: {y_test.shape}\")\n"
   ]
  },
  {
   "cell_type": "code",
   "execution_count": 200,
   "metadata": {},
   "outputs": [],
   "source": [
    "# vonersion to PyTorch tensors \n",
    "X_train_tensor = torch.tensor(X_train.values, dtype=torch.float32)\n",
    "X_test_tensor = torch.tensor(X_test.values, dtype=torch.float32)\n",
    "y_train_tensor = torch.tensor(y_train.values, dtype=torch.float32).view(-1, 1)\n",
    "y_test_tensor = torch.tensor(y_test.values, dtype=torch.float32).view(-1, 1)"
   ]
  },
  {
   "cell_type": "code",
   "execution_count": 201,
   "metadata": {},
   "outputs": [],
   "source": [
    "from torch.utils.data import DataLoader, TensorDataset\n",
    "#Create data loaders\n",
    "\n",
    "train_dataset = TensorDataset(X_train_tensor, y_train_tensor)\n",
    "test_dataset = TensorDataset(X_test_tensor, y_test_tensor)\n",
    "\n",
    "train_loader = DataLoader(train_dataset, batch_size=32, shuffle=True)\n",
    "test_loader = DataLoader(test_dataset, batch_size=32, shuffle=False)\n"
   ]
  },
  {
   "cell_type": "code",
   "execution_count": 202,
   "metadata": {},
   "outputs": [],
   "source": [
    "class ImprovedNN(nn.Module):\n",
    "    def __init__(self, input_dim):\n",
    "        super(ImprovedNN, self).__init__()\n",
    "        self.layer1 = nn.Linear(input_dim, 128)\n",
    "        self.layer2 = nn.Linear(128, 64)\n",
    "        self.layer3 = nn.Linear(64, 32)\n",
    "        self.layer4 = nn.Linear(32, 1)\n",
    "        self.relu = nn.ReLU()\n",
    "        self.dropout = nn.Dropout(0.5)\n",
    "        \n",
    "    def forward(self, x):\n",
    "        x = self.relu(self.layer1(x))\n",
    "        x = self.dropout(x)\n",
    "        x = self.relu(self.layer2(x))\n",
    "        x = self.dropout(x)\n",
    "        x = self.relu(self.layer3(x))\n",
    "        x = self.layer4(x)\n",
    "        return x"
   ]
  },
  {
   "cell_type": "code",
   "execution_count": null,
   "metadata": {},
   "outputs": [
    {
     "data": {
      "text/plain": [
       "ImprovedNN(\n",
       "  (layer1): Linear(in_features=12, out_features=128, bias=True)\n",
       "  (layer2): Linear(in_features=128, out_features=64, bias=True)\n",
       "  (layer3): Linear(in_features=64, out_features=32, bias=True)\n",
       "  (layer4): Linear(in_features=32, out_features=1, bias=True)\n",
       "  (relu): ReLU()\n",
       "  (dropout): Dropout(p=0.5, inplace=False)\n",
       ")"
      ]
     },
     "execution_count": 203,
     "metadata": {},
     "output_type": "execute_result"
    }
   ],
   "source": [
    "input_dim = X_train_tensor.shape[1]\n",
    "model = ImprovedNN(input_dim)\n",
    "criterion = nn.MSELoss()\n",
    "optimizer = optim.Adam(model.parameters(), lr=0.001)\n",
    "num_epochs = 1200\n",
    "patience = 1200\n",
    "best_loss = float('inf')\n",
    "early_stop_counter = 0\n",
    "model.train()"
   ]
  },
  {
   "cell_type": "code",
   "execution_count": 204,
   "metadata": {},
   "outputs": [
    {
     "name": "stdout",
     "output_type": "stream",
     "text": [
      "Epoch [10/2000], Loss: 0.2648\n",
      "Epoch [20/2000], Loss: 0.1780\n",
      "Epoch [30/2000], Loss: 0.1543\n",
      "Epoch [40/2000], Loss: 0.1286\n",
      "Epoch [50/2000], Loss: 0.1215\n",
      "Epoch [60/2000], Loss: 0.1152\n",
      "Epoch [70/2000], Loss: 0.1029\n",
      "Epoch [80/2000], Loss: 0.0921\n",
      "Epoch [90/2000], Loss: 0.0914\n",
      "Epoch [100/2000], Loss: 0.0900\n",
      "Epoch [110/2000], Loss: 0.0879\n",
      "Epoch [120/2000], Loss: 0.0816\n",
      "Epoch [130/2000], Loss: 0.0785\n",
      "Epoch [140/2000], Loss: 0.0771\n",
      "Epoch [150/2000], Loss: 0.0824\n",
      "Epoch [160/2000], Loss: 0.0728\n",
      "Epoch [170/2000], Loss: 0.0690\n",
      "Epoch [180/2000], Loss: 0.0667\n",
      "Epoch [190/2000], Loss: 0.0682\n",
      "Epoch [200/2000], Loss: 0.0710\n",
      "Epoch [210/2000], Loss: 0.0672\n",
      "Epoch [220/2000], Loss: 0.0664\n",
      "Epoch [230/2000], Loss: 0.0663\n",
      "Epoch [240/2000], Loss: 0.0602\n",
      "Epoch [250/2000], Loss: 0.0630\n",
      "Epoch [260/2000], Loss: 0.0600\n",
      "Epoch [270/2000], Loss: 0.0597\n",
      "Epoch [280/2000], Loss: 0.0654\n",
      "Epoch [290/2000], Loss: 0.0582\n",
      "Epoch [300/2000], Loss: 0.0599\n",
      "Epoch [310/2000], Loss: 0.0582\n",
      "Epoch [320/2000], Loss: 0.0557\n",
      "Epoch [330/2000], Loss: 0.0601\n",
      "Epoch [340/2000], Loss: 0.0570\n",
      "Epoch [350/2000], Loss: 0.0583\n",
      "Epoch [360/2000], Loss: 0.0593\n",
      "Epoch [370/2000], Loss: 0.0590\n",
      "Epoch [380/2000], Loss: 0.0561\n",
      "Epoch [390/2000], Loss: 0.0592\n",
      "Epoch [400/2000], Loss: 0.0543\n",
      "Epoch [410/2000], Loss: 0.0578\n",
      "Epoch [420/2000], Loss: 0.0559\n",
      "Epoch [430/2000], Loss: 0.0546\n",
      "Epoch [440/2000], Loss: 0.0566\n",
      "Epoch [450/2000], Loss: 0.0528\n",
      "Epoch [460/2000], Loss: 0.0531\n",
      "Epoch [470/2000], Loss: 0.0576\n",
      "Epoch [480/2000], Loss: 0.0536\n",
      "Epoch [490/2000], Loss: 0.0526\n",
      "Epoch [500/2000], Loss: 0.0549\n",
      "Epoch [510/2000], Loss: 0.0548\n",
      "Epoch [520/2000], Loss: 0.0526\n",
      "Epoch [530/2000], Loss: 0.0542\n",
      "Epoch [540/2000], Loss: 0.0508\n",
      "Epoch [550/2000], Loss: 0.0515\n",
      "Epoch [560/2000], Loss: 0.0513\n",
      "Epoch [570/2000], Loss: 0.0514\n",
      "Epoch [580/2000], Loss: 0.0485\n",
      "Epoch [590/2000], Loss: 0.0514\n",
      "Epoch [600/2000], Loss: 0.0522\n",
      "Epoch [610/2000], Loss: 0.0525\n",
      "Epoch [620/2000], Loss: 0.0526\n",
      "Epoch [630/2000], Loss: 0.0522\n",
      "Epoch [640/2000], Loss: 0.0496\n",
      "Epoch [650/2000], Loss: 0.0511\n",
      "Epoch [660/2000], Loss: 0.0489\n",
      "Epoch [670/2000], Loss: 0.0548\n",
      "Epoch [680/2000], Loss: 0.0490\n",
      "Epoch [690/2000], Loss: 0.0508\n",
      "Epoch [700/2000], Loss: 0.0499\n",
      "Epoch [710/2000], Loss: 0.0504\n",
      "Epoch [720/2000], Loss: 0.0528\n",
      "Epoch [730/2000], Loss: 0.0489\n",
      "Epoch [740/2000], Loss: 0.0503\n",
      "Epoch [750/2000], Loss: 0.0519\n",
      "Epoch [760/2000], Loss: 0.0515\n",
      "Epoch [770/2000], Loss: 0.0510\n",
      "Epoch [780/2000], Loss: 0.0464\n",
      "Epoch [790/2000], Loss: 0.0519\n",
      "Epoch [800/2000], Loss: 0.0497\n",
      "Epoch [810/2000], Loss: 0.0488\n",
      "Epoch [820/2000], Loss: 0.0476\n",
      "Epoch [830/2000], Loss: 0.0474\n",
      "Epoch [840/2000], Loss: 0.0492\n",
      "Epoch [850/2000], Loss: 0.0473\n",
      "Epoch [860/2000], Loss: 0.0486\n",
      "Epoch [870/2000], Loss: 0.0516\n",
      "Epoch [880/2000], Loss: 0.0523\n",
      "Epoch [890/2000], Loss: 0.0447\n",
      "Epoch [900/2000], Loss: 0.0450\n",
      "Epoch [910/2000], Loss: 0.0487\n",
      "Epoch [920/2000], Loss: 0.0485\n",
      "Epoch [930/2000], Loss: 0.0458\n",
      "Epoch [940/2000], Loss: 0.0452\n",
      "Epoch [950/2000], Loss: 0.0484\n",
      "Epoch [960/2000], Loss: 0.0486\n",
      "Epoch [970/2000], Loss: 0.0480\n",
      "Epoch [980/2000], Loss: 0.0459\n",
      "Epoch [990/2000], Loss: 0.0457\n",
      "Epoch [1000/2000], Loss: 0.0460\n",
      "Epoch [1010/2000], Loss: 0.0483\n",
      "Epoch [1020/2000], Loss: 0.0479\n",
      "Epoch [1030/2000], Loss: 0.0470\n",
      "Epoch [1040/2000], Loss: 0.0451\n",
      "Epoch [1050/2000], Loss: 0.0461\n",
      "Epoch [1060/2000], Loss: 0.0472\n",
      "Epoch [1070/2000], Loss: 0.0438\n",
      "Epoch [1080/2000], Loss: 0.0468\n",
      "Epoch [1090/2000], Loss: 0.0458\n",
      "Epoch [1100/2000], Loss: 0.0463\n",
      "Epoch [1110/2000], Loss: 0.0459\n",
      "Epoch [1120/2000], Loss: 0.0445\n",
      "Epoch [1130/2000], Loss: 0.0490\n",
      "Epoch [1140/2000], Loss: 0.0462\n",
      "Epoch [1150/2000], Loss: 0.0474\n",
      "Epoch [1160/2000], Loss: 0.0453\n",
      "Epoch [1170/2000], Loss: 0.0418\n",
      "Epoch [1180/2000], Loss: 0.0445\n",
      "Epoch [1190/2000], Loss: 0.0448\n",
      "Epoch [1200/2000], Loss: 0.0443\n",
      "Epoch [1210/2000], Loss: 0.0481\n",
      "Epoch [1220/2000], Loss: 0.0483\n",
      "Epoch [1230/2000], Loss: 0.0464\n",
      "Epoch [1240/2000], Loss: 0.0456\n",
      "Epoch [1250/2000], Loss: 0.0435\n",
      "Epoch [1260/2000], Loss: 0.0468\n",
      "Epoch [1270/2000], Loss: 0.0469\n",
      "Epoch [1280/2000], Loss: 0.0487\n",
      "Epoch [1290/2000], Loss: 0.0461\n",
      "Epoch [1300/2000], Loss: 0.0429\n",
      "Epoch [1310/2000], Loss: 0.0425\n",
      "Epoch [1320/2000], Loss: 0.0466\n",
      "Epoch [1330/2000], Loss: 0.0418\n",
      "Epoch [1340/2000], Loss: 0.0452\n",
      "Epoch [1350/2000], Loss: 0.0472\n",
      "Epoch [1360/2000], Loss: 0.0463\n",
      "Epoch [1370/2000], Loss: 0.0446\n",
      "Epoch [1380/2000], Loss: 0.0446\n",
      "Epoch [1390/2000], Loss: 0.0446\n",
      "Epoch [1400/2000], Loss: 0.0456\n",
      "Epoch [1410/2000], Loss: 0.0433\n",
      "Epoch [1420/2000], Loss: 0.0452\n",
      "Epoch [1430/2000], Loss: 0.0441\n",
      "Epoch [1440/2000], Loss: 0.0441\n",
      "Epoch [1450/2000], Loss: 0.0435\n",
      "Epoch [1460/2000], Loss: 0.0437\n",
      "Epoch [1470/2000], Loss: 0.0464\n",
      "Epoch [1480/2000], Loss: 0.0450\n",
      "Epoch [1490/2000], Loss: 0.0441\n",
      "Epoch [1500/2000], Loss: 0.0439\n",
      "Epoch [1510/2000], Loss: 0.0461\n",
      "Epoch [1520/2000], Loss: 0.0438\n",
      "Epoch [1530/2000], Loss: 0.0428\n",
      "Epoch [1540/2000], Loss: 0.0440\n",
      "Epoch [1550/2000], Loss: 0.0432\n",
      "Epoch [1560/2000], Loss: 0.0457\n",
      "Epoch [1570/2000], Loss: 0.0448\n",
      "Epoch [1580/2000], Loss: 0.0448\n",
      "Epoch [1590/2000], Loss: 0.0444\n",
      "Epoch [1600/2000], Loss: 0.0425\n",
      "Epoch [1610/2000], Loss: 0.0390\n",
      "Epoch [1620/2000], Loss: 0.0431\n",
      "Epoch [1630/2000], Loss: 0.0437\n",
      "Epoch [1640/2000], Loss: 0.0444\n",
      "Epoch [1650/2000], Loss: 0.0425\n",
      "Epoch [1660/2000], Loss: 0.0454\n",
      "Epoch [1670/2000], Loss: 0.0455\n",
      "Epoch [1680/2000], Loss: 0.0420\n",
      "Epoch [1690/2000], Loss: 0.0446\n",
      "Epoch [1700/2000], Loss: 0.0445\n",
      "Epoch [1710/2000], Loss: 0.0466\n",
      "Epoch [1720/2000], Loss: 0.0436\n",
      "Epoch [1730/2000], Loss: 0.0451\n",
      "Epoch [1740/2000], Loss: 0.0420\n",
      "Epoch [1750/2000], Loss: 0.0427\n",
      "Epoch [1760/2000], Loss: 0.0454\n",
      "Epoch [1770/2000], Loss: 0.0470\n",
      "Epoch [1780/2000], Loss: 0.0442\n",
      "Epoch [1790/2000], Loss: 0.0459\n",
      "Epoch [1800/2000], Loss: 0.0440\n",
      "Epoch [1810/2000], Loss: 0.0409\n",
      "Epoch [1820/2000], Loss: 0.0444\n",
      "Epoch [1830/2000], Loss: 0.0441\n",
      "Epoch [1840/2000], Loss: 0.0478\n",
      "Epoch [1850/2000], Loss: 0.0439\n",
      "Epoch [1860/2000], Loss: 0.0429\n",
      "Epoch [1870/2000], Loss: 0.0476\n",
      "Epoch [1880/2000], Loss: 0.0432\n",
      "Epoch [1890/2000], Loss: 0.0408\n",
      "Epoch [1900/2000], Loss: 0.0431\n",
      "Epoch [1910/2000], Loss: 0.0466\n",
      "Epoch [1920/2000], Loss: 0.0432\n",
      "Epoch [1930/2000], Loss: 0.0433\n",
      "Epoch [1940/2000], Loss: 0.0438\n",
      "Epoch [1950/2000], Loss: 0.0411\n",
      "Epoch [1960/2000], Loss: 0.0430\n",
      "Epoch [1970/2000], Loss: 0.0417\n",
      "Epoch [1980/2000], Loss: 0.0422\n",
      "Epoch [1990/2000], Loss: 0.0433\n",
      "Epoch [2000/2000], Loss: 0.0429\n"
     ]
    }
   ],
   "source": [
    "costs = []\n",
    "for epoch in range(num_epochs):\n",
    "    running_loss = 0.0\n",
    "    for inputs, targets in train_loader:\n",
    "        optimizer.zero_grad()\n",
    "        outputs = model(inputs)\n",
    "        loss = criterion(outputs, targets)\n",
    "        costs.append(loss.item())\n",
    "        loss.backward()\n",
    "        optimizer.step()\n",
    "        running_loss += loss.item()\n",
    "\n",
    "    avg_loss = running_loss / len(train_loader)\n",
    "    \n",
    "    if avg_loss < best_loss:\n",
    "        best_loss = avg_loss\n",
    "        early_stop_counter = 0\n",
    "    else:\n",
    "        early_stop_counter += 1\n",
    "\n",
    "    if early_stop_counter >= patience:\n",
    "        print(f\"Early stopping at epoch {epoch+1}\")\n",
    "        break\n",
    "\n",
    "    if (epoch+1) % 10 == 0:\n",
    "        print(f\"Epoch [{epoch+1}/{num_epochs}], Loss: {avg_loss:.4f}\")"
   ]
  },
  {
   "cell_type": "code",
   "execution_count": 205,
   "metadata": {},
   "outputs": [
    {
     "data": {
      "image/png": "[encoded data removed]",
      "text/plain": [
       "<Figure size 576x432 with 1 Axes>"
      ]
     },
     "metadata": {
      "needs_background": "light"
     },
     "output_type": "display_data"
    }
   ],
   "source": [
    "# ploting the cost-epoch\n",
    "iterations = np.arange(0, len(costs))\n",
    "with torch.no_grad():\n",
    "    plt.figure(figsize=(8, 6))\n",
    "    plt.plot(iterations, costs, 'b-', linewidth=2)\n",
    "    plt.xlabel(\"Iteration\")\n",
    "    plt.ylabel(\"Cost\")\n",
    "    plt.title(\"Cost vs. Iterations\")\n",
    "    plt.grid(True)\n",
    "    plt.show()"
   ]
  },
  {
   "cell_type": "code",
   "execution_count": 206,
   "metadata": {},
   "outputs": [
    {
     "name": "stdout",
     "output_type": "stream",
     "text": [
      "Test Loss: 0.1425\n"
     ]
    }
   ],
   "source": [
    "model.eval()\n",
    "with torch.no_grad():\n",
    "    test_loss = 0.0\n",
    "    for inputs, targets in test_loader:\n",
    "        outputs = model(inputs)\n",
    "        loss = criterion(outputs, targets)\n",
    "        test_loss += loss.item()\n",
    "    print(f\"Test Loss: {test_loss/len(test_loader):.4f}\")"
   ]
  },
  {
   "cell_type": "code",
   "execution_count": 207,
   "metadata": {},
   "outputs": [],
   "source": [
    "test_df = pd.read_csv('test.csv')  # Ensure this is the correct path to your test CSV file"
   ]
  },
  {
   "cell_type": "code",
   "execution_count": 208,
   "metadata": {},
   "outputs": [
    {
     "name": "stdout",
     "output_type": "stream",
     "text": [
      "Missing values in the test dataset before replacement:\n",
      "StudentID             0\n",
      "Age                   0\n",
      "Gender                0\n",
      "Ethnicity             0\n",
      "ParentalEducation    40\n",
      "StudyTimeWeekly       0\n",
      "Absences              0\n",
      "Tutoring              0\n",
      "ParentalSupport      30\n",
      "Extracurricular       0\n",
      "Sports                0\n",
      "Music                 0\n",
      "Volunteering          0\n",
      "GPA                   0\n",
      "dtype: int64\n"
     ]
    }
   ],
   "source": [
    "print(\"Missing values in the test dataset before replacement:\")\n",
    "print(test_df.isnull().sum())"
   ]
  },
  {
   "cell_type": "code",
   "execution_count": 209,
   "metadata": {},
   "outputs": [
    {
     "name": "stderr",
     "output_type": "stream",
     "text": [
      "/tmp/ipykernel_7688/1716585061.py:1: FutureWarning: A value is trying to be set on a copy of a DataFrame or Series through chained assignment using an inplace method.\n",
      "The behavior will change in pandas 3.0. This inplace method will never work because the intermediate object on which we are setting values always behaves as a copy.\n",
      "\n",
      "For example, when doing 'df[col].method(value, inplace=True)', try using 'df.method({col: value}, inplace=True)' or df[col] = df[col].method(value) instead, to perform the operation inplace on the original object.\n",
      "\n",
      "\n",
      "  test_df['ParentalEducation'].fillna(education_mode, inplace=True)\n",
      "/tmp/ipykernel_7688/1716585061.py:2: FutureWarning: A value is trying to be set on a copy of a DataFrame or Series through chained assignment using an inplace method.\n",
      "The behavior will change in pandas 3.0. This inplace method will never work because the intermediate object on which we are setting values always behaves as a copy.\n",
      "\n",
      "For example, when doing 'df[col].method(value, inplace=True)', try using 'df.method({col: value}, inplace=True)' or df[col] = df[col].method(value) instead, to perform the operation inplace on the original object.\n",
      "\n",
      "\n",
      "  test_df['ParentalSupport'].fillna(support_mode, inplace=True)\n"
     ]
    }
   ],
   "source": [
    "test_df['ParentalEducation'].fillna(education_mode, inplace=True)\n",
    "test_df['ParentalSupport'].fillna(support_mode, inplace=True)"
   ]
  },
  {
   "cell_type": "code",
   "execution_count": 210,
   "metadata": {},
   "outputs": [],
   "source": [
    "test_df['ParentalEducation'] = pd.factorize(test_df['ParentalEducation'])[0]\n",
    "test_df['ParentalSupport'] = pd.factorize(test_df['ParentalSupport'])[0]\n",
    "test_df['Ethnicity'] = pd.factorize(test_df['Ethnicity'])[0]"
   ]
  },
  {
   "cell_type": "code",
   "execution_count": 211,
   "metadata": {},
   "outputs": [],
   "source": [
    "X_test_new = test_df.drop(['StudentID', 'GPA'], axis=1)\n",
    "y_test_new = test_df['GPA']"
   ]
  },
  {
   "cell_type": "code",
   "execution_count": 212,
   "metadata": {},
   "outputs": [],
   "source": [
    "X_test_new_scaled = scaler.transform(X_test_new)\n",
    "X_test_new_scaled = pd.DataFrame(X_test_new_scaled, columns=X_test_new.columns)\n",
    "\n",
    "# Convert data to PyTorch tensors\n",
    "X_test_new_tensor = torch.tensor(X_test_new_scaled.values, dtype=torch.float32)\n",
    "y_test_new_tensor = torch.tensor(y_test_new.values, dtype=torch.float32).view(-1, 1)"
   ]
  },
  {
   "cell_type": "code",
   "execution_count": 213,
   "metadata": {},
   "outputs": [],
   "source": [
    "model.eval()\n",
    "with torch.no_grad():\n",
    "    y_test_pred = model(X_test_new_tensor)"
   ]
  },
  {
   "cell_type": "code",
   "execution_count": 214,
   "metadata": {},
   "outputs": [
    {
     "name": "stdout",
     "output_type": "stream",
     "text": [
      "R² score on the test data: 0.8294\n"
     ]
    }
   ],
   "source": [
    "from sklearn.metrics import r2_score\n",
    "r2 = r2_score(y_test_new_tensor.numpy(), y_test_pred.numpy())\n",
    "print(f\"R² score on the test data: {r2:.4f}\")"
   ]
  }
 ],
 "metadata": {
  "kernelspec": {
   "display_name": "Python 3",
   "language": "python",
   "name": "python3"
  },
  "language_info": {
   "codemirror_mode": {
    "name": "ipython",
    "version": 3
   },
   "file_extension": ".py",
   "mimetype": "text/x-python",
   "name": "python",
   "nbconvert_exporter": "python",
   "pygments_lexer": "ipython3",
   "version": "3.10.12"
  }
 },
 "nbformat": 4,
 "nbformat_minor": 2
}
