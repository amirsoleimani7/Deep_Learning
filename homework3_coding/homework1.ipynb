{
 "cells": [
  {
   "cell_type": "code",
   "execution_count": null,
   "id": "b111d190",
   "metadata": {},
   "outputs": [],
   "source": [
    "import os\n",
    "import zipfile\n",
    "import gdown\n",
    "import numpy\n",
    "import torch\n",
    "import matplotlib.pyplot as plt"
   ]
  },
  {
   "cell_type": "code",
   "execution_count": 8,
   "id": "7091e442",
   "metadata": {},
   "outputs": [],
   "source": [
    "# Set your target directory\n",
    "target_dir = \"/run/media/amir/1DA18C76F50D67DF/school/term-6/Deep - Learning[andrew ng ]/homeworks/Deep_Learning/homework3_coding/TemplateRequirements/Template&Requirements\"\n",
    "os.makedirs(target_dir, exist_ok=True)"
   ]
  },
  {
   "cell_type": "code",
   "execution_count": 9,
   "id": "965d6583",
   "metadata": {},
   "outputs": [],
   "source": [
    "file_id = \"1f5FYQWZUKVSrroAz1_RkW2DrfHKj-tAZ\"\n",
    "output_zip = os.path.join(target_dir, \"downloaded_file.zip\")"
   ]
  },
  {
   "cell_type": "code",
   "execution_count": 10,
   "id": "29f56e97",
   "metadata": {},
   "outputs": [
    {
     "name": "stderr",
     "output_type": "stream",
     "text": [
      "Downloading...\n",
      "From (original): https://drive.google.com/uc?id=1f5FYQWZUKVSrroAz1_RkW2DrfHKj-tAZ\n",
      "From (redirected): https://drive.google.com/uc?id=1f5FYQWZUKVSrroAz1_RkW2DrfHKj-tAZ&confirm=t&uuid=f22163af-3469-4b0b-acf7-e9a6116333f6\n",
      "To: /run/media/amir/1DA18C76F50D67DF/school/term-6/Deep - Learning[andrew ng ]/homeworks/Deep_Learning/homework3_coding/TemplateRequirements/Template&Requirements/downloaded_file.zip\n",
      "100%|██████████| 124M/124M [00:17<00:00, 6.95MB/s] \n"
     ]
    },
    {
     "data": {
      "text/plain": [
       "'/run/media/amir/1DA18C76F50D67DF/school/term-6/Deep - Learning[andrew ng ]/homeworks/Deep_Learning/homework3_coding/TemplateRequirements/Template&Requirements/downloaded_file.zip'"
      ]
     },
     "execution_count": 10,
     "metadata": {},
     "output_type": "execute_result"
    }
   ],
   "source": [
    "gdown.download(f\"https://drive.google.com/uc?id={file_id}\", output_zip, quiet=False)"
   ]
  },
  {
   "cell_type": "code",
   "execution_count": 11,
   "id": "a4197f7b",
   "metadata": {},
   "outputs": [],
   "source": [
    "with zipfile.ZipFile(output_zip, 'r') as zip_ref:\n",
    "    zip_ref.extractall(target_dir)\n",
    "    \n",
    "os.remove(output_zip)"
   ]
  },
  {
   "cell_type": "code",
   "execution_count": 12,
   "id": "c670fe85",
   "metadata": {},
   "outputs": [
    {
     "name": "stdout",
     "output_type": "stream",
     "text": [
      "File downloaded and extracted successfully in /run/media/amir/1DA18C76F50D67DF/school/term-6/Deep - Learning[andrew ng ]/homeworks/Deep_Learning/homework3_coding/TemplateRequirements/Template&Requirements!\n"
     ]
    }
   ],
   "source": [
    "print(f\"File downloaded and extracted successfully in {target_dir}!\")"
   ]
  }
 ],
 "metadata": {
  "kernelspec": {
   "display_name": "venv",
   "language": "python",
   "name": "python3"
  },
  "language_info": {
   "codemirror_mode": {
    "name": "ipython",
    "version": 3
   },
   "file_extension": ".py",
   "mimetype": "text/x-python",
   "name": "python",
   "nbconvert_exporter": "python",
   "pygments_lexer": "ipython3",
   "version": "3.13.3"
  }
 },
 "nbformat": 4,
 "nbformat_minor": 5
}
