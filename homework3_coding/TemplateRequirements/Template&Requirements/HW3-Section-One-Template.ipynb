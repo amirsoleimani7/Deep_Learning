{
  "cells": [
    {
      "cell_type": "code",
      "execution_count": null,
      "metadata": {
        "colab": {
          "base_uri": "https://localhost:8080/"
        },
        "id": "tL8Es0Bo9myt",
        "outputId": "d2e8b133-8649-4026-9c9d-2d69a4dc2d4e"
      },
      "outputs": [
        {
          "name": "stdout",
          "output_type": "stream",
          "text": [
            "Mounted at /content/drive\n"
          ]
        }
      ],
      "source": [
        "from google.colab import drive\n",
        "drive.mount('/content/drive')"
      ]
    },
    {
      "cell_type": "code",
      "execution_count": 3,
      "metadata": {
        "colab": {
          "base_uri": "https://localhost:8080/"
        },
        "id": "eMG7-AifBW9B",
        "outputId": "16389ec4-617a-45c5-ab46-a6ac600aa5d3"
      },
      "outputs": [
        {
          "name": "stdout",
          "output_type": "stream",
          "text": [
            "/content/drive/MyDrive/HW2\n"
          ]
        }
      ],
      "source": [
        "cd  /content/drive/MyDrive/HW2\n"
      ]
    },
    {
      "cell_type": "markdown",
      "metadata": {
        "id": "k8ajm5RlW3DY"
      },
      "source": [
        "دانلود دیتاست فقط برای بار اول"
      ]
    },
    {
      "cell_type": "code",
      "execution_count": null,
      "metadata": {
        "id": "RNTJkdWH_ckF"
      },
      "outputs": [],
      "source": [
        "# prompt: how to download file from https://drive.google.com/file/d/1f5FYQWZUKVSrroAz1_RkW2DrfHKj-tAZ/view?usp=drive_link and extract in  /content/drive/MyDrive/HW2\n",
        "\n",
        "# Install gdown if not already installed\n",
        "!pip install gdown\n",
        "\n",
        "# Create the destination directory if it doesn't exist\n",
        "!mkdir -p /content/drive/MyDrive/HW2\n",
        "\n",
        "# Download the file using gdown\n",
        "!gdown https://drive.google.com/uc?id=1f5FYQWZUKVSrroAz1_RkW2DrfHKj-tAZ -O /content/drive/MyDrive/HW2/downloaded_file.zip\n",
        "\n",
        "# Change to the destination directory\n",
        "%cd /content/drive/MyDrive/HW2\n",
        "\n",
        "# Extract the contents of the zip file\n",
        "!unzip downloaded_file.zip\n",
        "\n",
        "# Remove the zip file after extraction (optional)\n",
        "!rm downloaded_file.zip\n",
        "\n",
        "# List the contents to see the extracted files\n",
        "!ls -l\n",
        "\n",
        "print(\"File downloaded and extracted successfully in /content/drive/MyDrive/HW2!\")"
      ]
    },
    {
      "cell_type": "code",
      "execution_count": 4,
      "metadata": {
        "id": "0MwST3rM8PK5"
      },
      "outputs": [],
      "source": [
        "from tensorflow.keras.preprocessing.image import ImageDataGenerator\n"
      ]
    },
    {
      "cell_type": "code",
      "execution_count": 5,
      "metadata": {
        "id": "CnkrbdohAYyL"
      },
      "outputs": [],
      "source": [
        "train_folder = \"/content/drive/MyDrive/HW2/Data/train\"\n",
        "valid_folder = \"/content/drive/MyDrive/HW2/Data/valid\"\n",
        "test_folder = \"/content/drive/MyDrive/HW2/Data/test\""
      ]
    },
    {
      "cell_type": "code",
      "execution_count": 6,
      "metadata": {
        "colab": {
          "base_uri": "https://localhost:8080/"
        },
        "id": "CkU9DuSoIGpS",
        "outputId": "d97f13cf-8097-4247-8117-e3d36a9f9600"
      },
      "outputs": [
        {
          "name": "stdout",
          "output_type": "stream",
          "text": [
            "Found 315 images belonging to 4 classes.\n"
          ]
        }
      ],
      "source": [
        "input_shape = (224,224,3)\n",
        "num_classes = 4\n",
        "\n",
        "# Image Data Generators for test\n",
        "\n",
        "test_datagen = ImageDataGenerator(dtype='float32')\n",
        "\n",
        "\n",
        "test_generator = test_datagen.flow_from_directory(\n",
        "    test_folder,\n",
        "    target_size=(224,224),\n",
        "    batch_size=64,\n",
        "    class_mode='categorical',\n",
        "    shuffle = False,\n",
        ")\n"
      ]
    }
  ],
  "metadata": {
    "accelerator": "GPU",
    "colab": {
      "gpuType": "T4",
      "provenance": []
    },
    "kernelspec": {
      "display_name": "Python 3",
      "name": "python3"
    },
    "language_info": {
      "name": "python"
    }
  },
  "nbformat": 4,
  "nbformat_minor": 0
}
