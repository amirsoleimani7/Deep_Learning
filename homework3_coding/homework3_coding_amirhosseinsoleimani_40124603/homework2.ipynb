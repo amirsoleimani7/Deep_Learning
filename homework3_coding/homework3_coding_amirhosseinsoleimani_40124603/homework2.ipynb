{
 "cells": [
  {
   "cell_type": "code",
   "execution_count": 28,
   "id": "2734a7a3",
   "metadata": {},
   "outputs": [],
   "source": [
    "import numpy as np\n",
    "import random"
   ]
  },
  {
   "cell_type": "code",
   "execution_count": 29,
   "id": "be5db400",
   "metadata": {},
   "outputs": [],
   "source": [
    "def read_tsp(filename):\n",
    "    coords = []\n",
    "    with open(filename) as f:\n",
    "        for line in f:\n",
    "            parts = line.strip().split()\n",
    "            if len(parts) == 3 and parts[0].isdigit():\n",
    "                coords.append((float(parts[1]), float(parts[2])))\n",
    "    return np.array(coords)"
   ]
  },
  {
   "cell_type": "code",
   "execution_count": 30,
   "id": "2b0ffbff",
   "metadata": {},
   "outputs": [],
   "source": [
    "def calc_distance_matrix(coords):\n",
    "    n = len(coords)\n",
    "    dist = np.zeros((n, n))\n",
    "    for i in range(n):\n",
    "        for j in range(n):\n",
    "            dist[i, j] = np.linalg.norm(coords[i] - coords[j]) \n",
    "    return dist"
   ]
  },
  {
   "cell_type": "code",
   "execution_count": 31,
   "id": "0a64e822",
   "metadata": {},
   "outputs": [],
   "source": [
    "def create_chromosome(n):\n",
    "    chrom = list(range(n))\n",
    "    random.shuffle(chrom)\n",
    "    return chrom\n",
    "\n",
    "def route_length(chrom, dist):\n",
    "    return sum(dist[chrom[i], chrom[(i+1)%len(chrom)]] for i in range(len(chrom)))\n",
    "\n",
    "def fitness(chrom, dist):\n",
    "    return 1.0 / route_length(chrom, dist)\n"
   ]
  },
  {
   "cell_type": "code",
   "execution_count": 32,
   "id": "52d5a834",
   "metadata": {},
   "outputs": [],
   "source": [
    "def tournament_selection(pop, fits, k=3):\n",
    "    selected = random.sample(list(zip(pop, fits)), k)\n",
    "    return max(selected, key=lambda x: x[1])[0][:]\n"
   ]
  },
  {
   "cell_type": "code",
   "execution_count": 33,
   "id": "44ba607a",
   "metadata": {},
   "outputs": [],
   "source": [
    "def order_crossover(p1, p2):\n",
    "    size = len(p1)\n",
    "    a, b = sorted(random.sample(range(size), 2))\n",
    "    child = [None]*size\n",
    "    child[a:b] = p1[a:b]\n",
    "    fill = [c for c in p2 if c not in child]\n",
    "    idx = 0\n",
    "    for i in range(size):\n",
    "        if child[i] is None:\n",
    "            child[i] = fill[idx]\n",
    "            idx += 1\n",
    "    return child"
   ]
  },
  {
   "cell_type": "code",
   "execution_count": 34,
   "id": "0be9ef27",
   "metadata": {},
   "outputs": [],
   "source": [
    "def pmx_crossover(p1, p2):\n",
    "    size = len(p1)\n",
    "    a, b = sorted(random.sample(range(size), 2))\n",
    "    child = [None]*size\n",
    "    child[a:b] = p1[a:b]\n",
    "    for i in range(a, b):\n",
    "        if p2[i] not in child:\n",
    "            pos = i\n",
    "            while True:\n",
    "                val = p1[pos]\n",
    "                pos = p2.index(val)\n",
    "                if child[pos] is None:\n",
    "                    child[pos] = p2[i]\n",
    "                    break\n",
    "    for i in range(size):\n",
    "        if child[i] is None:\n",
    "            child[i] = p2[i]\n",
    "    return child"
   ]
  },
  {
   "cell_type": "code",
   "execution_count": 35,
   "id": "85b45b1f",
   "metadata": {},
   "outputs": [],
   "source": [
    "def cycle_crossover(p1, p2):\n",
    "    size = len(p1)\n",
    "    child = [None]*size\n",
    "    idx = 0\n",
    "    while None in child:\n",
    "        if child[idx] is None:\n",
    "            val = p1[idx]\n",
    "            while True:\n",
    "                child[idx] = p1[idx]\n",
    "                idx = p1.index(p2[idx])\n",
    "                if child[idx] is not None:\n",
    "                    break\n",
    "        idx = child.index(None) if None in child else 0\n",
    "    return child"
   ]
  },
  {
   "cell_type": "code",
   "execution_count": 36,
   "id": "afe9d66e",
   "metadata": {},
   "outputs": [],
   "source": [
    "def swap_mutation(chrom):\n",
    "    a, b = random.sample(range(len(chrom)), 2)\n",
    "    chrom[a], chrom[b] = chrom[b], chrom[a]\n",
    "    return chrom\n",
    "\n",
    "def inversion_mutation(chrom):\n",
    "    a, b = sorted(random.sample(range(len(chrom)), 2))\n",
    "    chrom[a:b] = reversed(chrom[a:b])\n",
    "    return chrom\n",
    "\n",
    "def scramble_mutation(chrom):\n",
    "    a, b = sorted(random.sample(range(len(chrom)), 2))\n",
    "    subset = chrom[a:b]\n",
    "    random.shuffle(subset)\n",
    "    chrom[a:b] = subset\n",
    "    return chrom"
   ]
  },
  {
   "cell_type": "code",
   "execution_count": 37,
   "id": "cec1f1dd",
   "metadata": {},
   "outputs": [],
   "source": [
    "def genetic_algorithm_tsp(filename, pop_size=100, generations=500, crossover_rate=0.9, mutation_rate=0.2):\n",
    "    coords = read_tsp(filename)\n",
    "    dist = calc_distance_matrix(coords)\n",
    "    n = len(coords)\n",
    "    pop = [create_chromosome(n) for _ in range(pop_size)]\n",
    "    best_chrom = None\n",
    "    best_fit = -np.inf\n",
    "\n",
    "    for gen in range(generations):\n",
    "        fits = [fitness(chrom, dist) for chrom in pop]\n",
    "        new_pop = []\n",
    "        for _ in range(pop_size):\n",
    "            p1 = tournament_selection(pop, fits)\n",
    "            p2 = tournament_selection(pop, fits)\n",
    "            if random.random() < crossover_rate:\n",
    "                cross = random.choice([order_crossover, pmx_crossover, cycle_crossover])\n",
    "                child = cross(p1, p2)\n",
    "            else:\n",
    "                child = p1[:]\n",
    "            if random.random() < mutation_rate:\n",
    "                mut = random.choice([swap_mutation, inversion_mutation, scramble_mutation])\n",
    "                child = mut(child)\n",
    "            new_pop.append(child)\n",
    "        pop = new_pop\n",
    "        \n",
    "        gen_best_fit = max(fits)\n",
    "        if gen_best_fit > best_fit:\n",
    "            best_fit = gen_best_fit\n",
    "            best_chrom = pop[np.argmax(fits)]\n",
    "        if gen % 50 == 0:\n",
    "            print(f\"Generation {gen}: Best length = {1.0/best_fit:.2f}\")\n",
    "    print(f\"Best route length: {route_length(best_chrom, dist):.2f}\")\n",
    "    return best_chrom, coords"
   ]
  },
  {
   "cell_type": "code",
   "execution_count": 38,
   "id": "6f45a76f",
   "metadata": {},
   "outputs": [
    {
     "name": "stdout",
     "output_type": "stream",
     "text": [
      "Generation 0: Best length = 88337.59\n",
      "Generation 50: Best length = 35938.50\n",
      "Generation 100: Best length = 30411.52\n",
      "Generation 150: Best length = 29811.31\n",
      "Generation 200: Best length = 29596.28\n",
      "Generation 250: Best length = 29258.34\n",
      "Generation 300: Best length = 29258.34\n",
      "Generation 350: Best length = 29258.34\n",
      "Generation 400: Best length = 29258.34\n",
      "Generation 450: Best length = 29258.34\n",
      "Best route length: 29258.34\n"
     ]
    }
   ],
   "source": [
    "best, coords = genetic_algorithm_tsp(\"TemplateRequirements/Template&Requirements/GA-TSP/city1.tsp\", pop_size=200, generations=500)"
   ]
  },
  {
   "cell_type": "code",
   "execution_count": 39,
   "id": "302b90ef",
   "metadata": {},
   "outputs": [
    {
     "name": "stdout",
     "output_type": "stream",
     "text": [
      "Generation 0: Best length = 22185.67\n",
      "Generation 50: Best length = 10632.77\n",
      "Generation 100: Best length = 7767.75\n",
      "Generation 150: Best length = 6876.22\n",
      "Generation 200: Best length = 6708.81\n",
      "Generation 250: Best length = 6664.11\n",
      "Generation 300: Best length = 6664.11\n",
      "Generation 350: Best length = 6659.91\n",
      "Generation 400: Best length = 6659.91\n",
      "Generation 450: Best length = 6659.91\n",
      "Best route length: 8237.36\n"
     ]
    }
   ],
   "source": [
    "best, coords = genetic_algorithm_tsp(\"TemplateRequirements/Template&Requirements/GA-TSP/city2.tsp\", pop_size=200, generations=500)"
   ]
  },
  {
   "cell_type": "code",
   "execution_count": 40,
   "id": "9a27aab6",
   "metadata": {},
   "outputs": [
    {
     "name": "stdout",
     "output_type": "stream",
     "text": [
      "Generation 0: Best length = 83869.61\n",
      "Generation 50: Best length = 59190.38\n",
      "Generation 100: Best length = 48143.32\n",
      "Generation 150: Best length = 40721.42\n",
      "Generation 200: Best length = 35373.63\n",
      "Generation 250: Best length = 31753.58\n",
      "Generation 300: Best length = 28804.46\n",
      "Generation 350: Best length = 26862.80\n",
      "Generation 400: Best length = 25240.53\n",
      "Generation 450: Best length = 23043.44\n",
      "Best route length: 21754.84\n"
     ]
    }
   ],
   "source": [
    "best, coords = genetic_algorithm_tsp(\"TemplateRequirements/Template&Requirements/GA-TSP/city3.tsp\", pop_size=200, generations=500)"
   ]
  }
 ],
 "metadata": {
  "kernelspec": {
   "display_name": "venv",
   "language": "python",
   "name": "python3"
  },
  "language_info": {
   "codemirror_mode": {
    "name": "ipython",
    "version": 3
   },
   "file_extension": ".py",
   "mimetype": "text/x-python",
   "name": "python",
   "nbconvert_exporter": "python",
   "pygments_lexer": "ipython3",
   "version": "3.13.3"
  }
 },
 "nbformat": 4,
 "nbformat_minor": 5
}
